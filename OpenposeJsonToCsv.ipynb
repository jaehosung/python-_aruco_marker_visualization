{
 "cells": [
  {
   "cell_type": "code",
   "execution_count": 48,
   "metadata": {
    "collapsed": true,
    "pycharm": {
     "is_executing": false
    }
   },
   "outputs": [],
   "source": [
    "import json\n",
    "import csv\n",
    "import glob\n",
    "import os\n",
    "import pandas as pd"
   ]
  },
  {
   "cell_type": "code",
   "execution_count": 50,
   "outputs": [],
   "source": [
    "folder_dir = r\"I:\\20200824_FloorDetection\\skeleton_json\"\n",
    "file_dir = os.path.join(folder_dir,\"*s.json\")\n",
    "json_files = glob.glob(file_dir)\n",
    "\n",
    "#sort json_files\n",
    "json_files.sort()"
   ],
   "metadata": {
    "collapsed": false,
    "pycharm": {
     "name": "#%%\n",
     "is_executing": false
    }
   }
  },
  {
   "cell_type": "code",
   "execution_count": 51,
   "outputs": [],
   "source": [
    "json_dic = {}\n",
    "for file_name in json_files:\n",
    "    with open(file_name) as json_file:\n",
    "        json_data = json.load(json_file)\n",
    "    idx = os.path.basename(file_name)\n",
    "    data = json_data[\"people\"][0][\"pose_keypoints_3d\"]\n",
    "    json_dic[idx] = data"
   ],
   "metadata": {
    "collapsed": false,
    "pycharm": {
     "name": "#%%\n",
     "is_executing": false
    }
   }
  },
  {
   "cell_type": "code",
   "execution_count": 52,
   "outputs": [],
   "source": [
    "col_list = []\n",
    "for i in range(25):\n",
    "    for idx in [\"x\",\"y\",\"z\",\"c\"]:\n",
    "        col_list.append(idx+str(i))\n",
    "\n",
    "data = pd.DataFrame.from_dict(json_dic, orient='index',\n",
    "                       columns=col_list)"
   ],
   "metadata": {
    "collapsed": false,
    "pycharm": {
     "name": "#%%\n",
     "is_executing": false
    }
   }
  },
  {
   "cell_type": "code",
   "execution_count": 54,
   "outputs": [],
   "source": [
    "csv_dir = os.path.join(folder_dir,\"skeleton.csv\")\n",
    "data.to_csv(csv_dir)\n"
   ],
   "metadata": {
    "collapsed": false,
    "pycharm": {
     "name": "#%%\n",
     "is_executing": false
    }
   }
  },
  {
   "cell_type": "code",
   "execution_count": 65,
   "outputs": [
    {
     "name": "stdout",
     "text": [
      "0.0\n",
      "0.0\n",
      "0.0\n",
      "0.0\n",
      "-0.306236\n",
      "0.0\n",
      "0.283325\n",
      "0.24514499999999997\n",
      "-0.04509319999999999\n",
      "-0.187684\n",
      "-0.196918\n",
      "-0.209369\n",
      "0.0\n",
      "0.08242510000000002\n",
      "0.0310815\n",
      "0.0\n",
      "0.0\n",
      "0.0\n",
      "0.0\n",
      "0.0951805\n",
      "0.126687\n",
      "0.00207081\n",
      "-0.197907\n",
      "-0.233602\n",
      "-0.184309\n"
     ],
     "output_type": "stream"
    }
   ],
   "source": [
    "csv_dir = r\"I:\\20200824_FloorDetection\\skeleton_json\\skeleton.csv\"\n",
    "df = pd.read_csv(csv_dir,index_col= 0)\n",
    "capture_0 = df.index[0]\n",
    "\n",
    "df.loc[capture_0][\"x0\"]\n",
    "\n",
    "for i in range(25):\n",
    "    x = df.loc[capture_0][\"x\"+str(i)]\n",
    "    y = df.loc[capture_0][\"y\"+str(i)]\n",
    "    z = df.loc[capture_0][\"z\"+str(i)]"
   ],
   "metadata": {
    "collapsed": false,
    "pycharm": {
     "name": "#%%\n",
     "is_executing": false
    }
   }
  },
  {
   "cell_type": "code",
   "execution_count": null,
   "outputs": [],
   "source": [],
   "metadata": {
    "collapsed": false,
    "pycharm": {
     "name": "#%%\n"
    }
   }
  }
 ],
 "metadata": {
  "kernelspec": {
   "name": "python361064bitcv2conda8fba07e51d324fac8cb0951c188fa2f8",
   "language": "python",
   "display_name": "Python 3.6.10 64-bit ('cv2': conda)"
  },
  "language_info": {
   "codemirror_mode": {
    "name": "ipython",
    "version": 2
   },
   "file_extension": ".py",
   "mimetype": "text/x-python",
   "name": "python",
   "nbconvert_exporter": "python",
   "pygments_lexer": "ipython2",
   "version": "2.7.6"
  },
  "pycharm": {
   "stem_cell": {
    "cell_type": "raw",
    "source": [],
    "metadata": {
     "collapsed": false
    }
   }
  }
 },
 "nbformat": 4,
 "nbformat_minor": 0
}