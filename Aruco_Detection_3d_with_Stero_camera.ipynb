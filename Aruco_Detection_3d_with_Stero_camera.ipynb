{
 "cells": [
  {
   "cell_type": "code",
   "execution_count": 2,
   "metadata": {},
   "outputs": [],
   "source": [
    "import glob\n",
    "import numpy as np\n",
    "import math\n",
    "import cv2\n",
    "from cv2 import aruco\n",
    "import os\n",
    "import json\n",
    "import matplotlib as mpl\n",
    "import matplotlib.pyplot as plt\n",
    "from mpl_toolkits.mplot3d import Axes3D\n",
    "from mpl_toolkits.mplot3d.art3d import Poly3DCollection\n",
    "import pprint as pp"
   ]
  },
  {
   "cell_type": "code",
   "execution_count": 3,
   "metadata": {},
   "outputs": [],
   "source": [
    "def getVectorFromDic(idx0,idx1):\n",
    "    return marker_dict[idx0][\"tvec\"] - marker_dict[idx1][\"tvec\"]\n",
    "\n",
    "def getPositionFromDic(idx0):\n",
    "    return marker_dict[idx0][\"tvec\"]\n",
    "\n",
    "# idx0: origin\n",
    "def getAngleFromDic(idx1,idx0,idx2):\n",
    "    return getAngle(getVectorFromDic(idx2,idx0),getVectorFromDic(idx1,idx0))\n",
    "\n",
    "def getDistanceFromDic(idx0,idx1):\n",
    "     return np.linalg.norm(getVectorFromDic(idx0,idx1))\n",
    "def getJointVec(arr,joint_num):\n",
    "    return np.array(arr[joint_num*4:joint_num*4+3])\n",
    "\n",
    "def normalization(vec):\n",
    "    return vec/np.linalg.norm(vec)\n",
    "def getSize(vec):\n",
    "    return np.linalg.norm(vec)\n",
    "\n",
    "def dotproduct(v1, v2):\n",
    "    return sum((a*b) for a, b in zip(v1, v2))\n",
    "\n",
    "def length(v):\n",
    "    return math.sqrt(dotproduct(v, v))\n",
    "\n",
    "def getAngle(v1, v2):\n",
    "    return math.degrees(math.acos(dotproduct(v1, v2) / (length(v1) * length(v2))))\n",
    "def vec_norm(vec):\n",
    "    return vec/np.linalg.norm(vec)\n",
    "\n",
    "def getUpVectorFromRvecs(idx):\n",
    "    rtx = cv2.Rodrigues(rvecs[idx])[0]\n",
    "    return rtx.T[2]"
   ]
  },
  {
   "cell_type": "code",
   "execution_count": 4,
   "metadata": {},
   "outputs": [],
   "source": [
    "parameter_dir=\"./camera_parameters\"\n",
    "\n",
    "#load xml file\n",
    "camera_parameters = {}\n",
    "# camera_idxs = [\"18284509\",\"18284511\",\"18284512\"]\n",
    "camera_idxs = [\"18284509\",\"18284511\"]\n",
    "\n",
    "parameter_types = [\"CameraMatrix\",\"Intrinsics\",\"Distortion\"]\n",
    "\n",
    "\n",
    "for camera_idx in camera_idxs:\n",
    "    fileToLoad = os.path.join(parameter_dir,camera_idx+\".xml\")\n",
    "    fs = cv2.FileStorage(fileToLoad, cv2.FILE_STORAGE_READ)\n",
    "    _camera_parameter = {}\n",
    "    for parameter_type in parameter_types:\n",
    "        _camera_parameter[parameter_type] = fs.getNode(parameter_type).mat()\n",
    "        camera_parameters[camera_idx] = _camera_parameter\n",
    "\n",
    "#3d points to image (2nd image)\n",
    "extri = [0]*3\n",
    "intri  = [0]*3\n",
    "dist = [0]*3\n",
    "\n",
    "for i in range(len(camera_idxs)):\n",
    "    rotation_matrix = camera_parameters[camera_idxs[i]][parameter_types[0]][:,0:3]\n",
    "    rvec,_ = cv2.Rodrigues(rotation_matrix)\n",
    "    tvec = camera_parameters[camera_idxs[i]][parameter_types[0]][:,3]\n",
    "    \n",
    "    extri[i] = camera_parameters[camera_idxs[i]][parameter_types[0]]\n",
    "    intri[i] = camera_parameters[camera_idxs[i]][parameter_types[1]]\n",
    "    dist[i] = camera_parameters[camera_idxs[i]][parameter_types[2]]"
   ]
  },
  {
   "cell_type": "code",
   "execution_count": null,
   "metadata": {},
   "outputs": [],
   "source": []
  }
 ],
 "metadata": {
  "kernelspec": {
   "display_name": "Python 3",
   "language": "python",
   "name": "python3"
  },
  "language_info": {
   "codemirror_mode": {
    "name": "ipython",
    "version": 3
   },
   "file_extension": ".py",
   "mimetype": "text/x-python",
   "name": "python",
   "nbconvert_exporter": "python",
   "pygments_lexer": "ipython3",
   "version": "3.6.10"
  }
 },
 "nbformat": 4,
 "nbformat_minor": 4
}
