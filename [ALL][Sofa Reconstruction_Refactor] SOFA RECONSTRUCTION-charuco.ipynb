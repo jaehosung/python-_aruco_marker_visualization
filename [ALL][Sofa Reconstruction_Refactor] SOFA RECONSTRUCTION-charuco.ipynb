{
 "cells": [
  {
   "cell_type": "code",
   "execution_count": 15,
   "outputs": [],
   "source": [
    "import json\n",
    "import os\n",
    "import matplotlib.pyplot as plt\n",
    "import cv2\n",
    "import numpy as np\n",
    "import pandas as pd\n",
    "import math"
   ],
   "metadata": {
    "collapsed": false,
    "pycharm": {
     "name": "#%%\n",
     "is_executing": false
    }
   }
  },
  {
   "cell_type": "code",
   "execution_count": 16,
   "outputs": [],
   "source": [
    "#os.getcwd()\n",
    "os.chdir(\"/Users/zaio/dev/time-posture-analysis-tool\")\n",
    "# os.chdir(r\"C:\\Users\\ZAIO\\dev\\time-posture-analysis-tool\")\n",
    "\n",
    "# %%\n",
    "parent_dir = \"./data_reconstruction\"\n",
    "\n",
    "json_dir  = os.path.join(parent_dir,\"json\")\n",
    "img_dir  = os.path.join(parent_dir,\"img\")\n",
    "\n",
    "img_list  = os.listdir(img_dir)\n",
    "img_list.sort()\n",
    "\n",
    "\n",
    "json_list  = os.listdir(json_dir)\n",
    "json_list.sort()\n",
    "\n",
    "xy_pos_data = []\n",
    "for i in range(3):\n",
    "    file_name = os.path.join(json_dir,json_list[i])\n",
    "    with open(file_name) as json_file:\n",
    "        data = json.load(json_file)\n",
    "        xy_pos_data.append(data['people'][0]['pose_keypoints_2d'][8*3:8*3+2])\n",
    "\n",
    "file_name = os.path.join(json_dir,json_list[i])\n",
    "\n",
    "with open(file_name) as json_file:\n",
    "    data = json.load(json_file)\n",
    "\n",
    "xyz_pos_data_joints  = data['people'][0]['pose_keypoints_3d']\n",
    "xyz_pos_data = data['people'][0]['pose_keypoints_3d'][8*4:8*4+3]"
   ],
   "metadata": {
    "collapsed": false,
    "pycharm": {
     "name": "#%%\n",
     "is_executing": false
    }
   }
  },
  {
   "cell_type": "code",
   "execution_count": 17,
   "outputs": [],
   "source": [
    "#load xml file\n",
    "camera_parameters = {}\n",
    "parameter_dir=r\"C:\\Users\\ZAIO\\dev\\openpose\\openpose\\models\\cameraParameters\\flir\\20200810\"\n",
    "camera_idxs = [\"18284509\",\"18284511\"]\n",
    "parameter_types = [\"CameraMatrix\",\"Intrinsics\",\"Distortion\"]\n",
    "\n",
    "\n",
    "for camera_idx in camera_idxs:\n",
    "    fileToLoad = os.path.join(parameter_dir,camera_idx+\".xml\")\n",
    "    fs = cv2.FileStorage(fileToLoad, cv2.FILE_STORAGE_READ)\n",
    "    _camera_parameter = {}\n",
    "    for parameter_type in parameter_types:\n",
    "        _camera_parameter[parameter_type] = fs.getNode(parameter_type).mat()\n",
    "        camera_parameters[camera_idx] = _camera_parameter"
   ],
   "metadata": {
    "collapsed": false,
    "pycharm": {
     "name": "#%%\n",
     "is_executing": false
    }
   }
  },
  {
   "cell_type": "code",
   "execution_count": 18,
   "outputs": [],
   "source": [
    "def undistort_points(points2d,camera_index):\n",
    "        K = intri[camera_index]\n",
    "        distCoef = dist[camera_index]\n",
    "\n",
    "        \"\"\"\n",
    "        :param points2d: [ (x,y,w), ...]\n",
    "        :return:\n",
    "        \"\"\"\n",
    "        points2d_ = points2d[:, 0:2].astype('float32')\n",
    "        points2d_ = np.expand_dims(points2d_, axis=1)  # (n, 1, 2)\n",
    "        result = np.squeeze(cv2.undistortPoints(points2d_, K, distCoef))\n",
    "\n",
    "        if len(result.shape) == 1:  # only a single point\n",
    "            result = np.expand_dims(result, 0)\n",
    "\n",
    "        fx = K[0, 0]\n",
    "        fy = K[1, 1]\n",
    "        cx = K[0, 2]\n",
    "        cy = K[1, 2]\n",
    "\n",
    "        points2d_undist = np.empty_like(points2d)\n",
    "        for i, (px, py) in enumerate(result):\n",
    "            points2d_undist[i, 0] = px * fx + cx\n",
    "            points2d_undist[i, 1] = py * fy + cy\n",
    "            points2d_undist[i, 2] = points2d[i, 2]\n",
    "\n",
    "        return points2d_undist \n",
    "    \n",
    "def undistortPoints(_x,_y,cameraIdx = i):\n",
    "    points2d  = np.array([(_x,_y)])\n",
    "    points2d = np.float32(points2d[:, np.newaxis, :])\n",
    "    x =  cv2.undistortPoints(points2d,intri[i],dist[i])[0][0][0]\n",
    "    y =  cv2.undistortPoints(points2d,intri[i],dist[i])[0][0][1]\n",
    "    return x,y\n",
    "\n",
    "\n",
    "#3d reconstruction using 1st and 2nd camera\n",
    "def triangulatePoints(cam01_x,cam01_y,cam02_x,cam02_y,cam01_idx,cam02_idx):\n",
    "\n",
    "    undistort_x_0 = undistort_points(np.array([(cam01_x,cam01_y,1)]),cam01_idx)[0][0]\n",
    "    undistort_y_0 = undistort_points(np.array([(cam01_x,cam01_y,1)]),cam01_idx)[0][1]\n",
    "\n",
    "\n",
    "    undistort_x_1 = undistort_points(np.array([(cam02_x,cam02_y,1)]),cam02_idx)[0][0]\n",
    "    undistort_y_1 = undistort_points(np.array([(cam02_x,cam02_y,1)]),cam02_idx)[0][1]\n",
    "\n",
    "    tri_array = cv2.triangulatePoints(projMatr[cam01_idx],projMatr[cam02_idx],(undistort_x_0,undistort_y_0),(undistort_x_1,undistort_y_1))\n",
    "    tri_xyz = tri_array/tri_array[3]\n",
    "    return np.reshape(tri_xyz,-1)[0:3]\n"
   ],
   "metadata": {
    "collapsed": false,
    "pycharm": {
     "name": "#%%\n",
     "is_executing": false
    }
   }
  },
  {
   "cell_type": "code",
   "execution_count": 21,
   "outputs": [],
   "source": [
    "#3d points to image (2nd image)\n",
    "extri = [0]*3\n",
    "intri  = [0]*3\n",
    "dist = [0]*3\n",
    "\n",
    "for i in range(len(camera_idxs)):\n",
    "    rotation_matrix = camera_parameters[camera_idxs[i]][parameter_types[0]][:,0:3]\n",
    "    rvec,_ = cv2.Rodrigues(rotation_matrix)\n",
    "    tvec = camera_parameters[camera_idxs[i]][parameter_types[0]][:,3]\n",
    "    \n",
    "    extri[i] = camera_parameters[camera_idxs[i]][parameter_types[0]]\n",
    "    intri[i] = camera_parameters[camera_idxs[i]][parameter_types[1]]\n",
    "    dist[i] = camera_parameters[camera_idxs[i]][parameter_types[2]]\n",
    "    \n",
    "#Triangulation\n",
    "projMatr = [0]*3\n",
    "for i in range(len(camera_idxs)):  \n",
    "    projMatr[i] = np.dot(intri[i],extri[i])\n",
    "    \n",
    "    \n",
    "cam_idx = 0\n",
    "_x = xy_pos_data[cam_idx][0]\n",
    "_y = xy_pos_data[cam_idx][1]\n",
    "\n",
    "undistort_x_0 = undistort_points(np.array([(_x,_y,1)]),cam_idx)[0][0]\n",
    "undistort_y_0 = undistort_points(np.array([(_x,_y,1)]),cam_idx)[0][1]\n",
    "\n",
    "\n",
    "cam_idx = 1\n",
    "_x = xy_pos_data[cam_idx][0]\n",
    "_y = xy_pos_data[cam_idx][1]\n",
    "\n",
    "undistort_x_1 = undistort_points(np.array([(_x,_y,1)]),cam_idx)[0][0]\n",
    "undistort_y_1 = undistort_points(np.array([(_x,_y,1)]),cam_idx)[0][1]\n",
    "\n",
    "tri_array = cv2.triangulatePoints(projMatr[0],projMatr[1],(undistort_x_0,undistort_y_0),(undistort_x_1,undistort_y_1))\n",
    "tri_xyz = tri_array/tri_array[3]\n",
    "\n",
    "\n"
   ],
   "metadata": {
    "collapsed": false,
    "pycharm": {
     "name": "#%%\n",
     "is_executing": false
    }
   }
  },
  {
   "cell_type": "code",
   "execution_count": 22,
   "outputs": [],
   "source": [
    "# Store the image as dataframe\n",
    "# Undistort each value\n",
    "# Run the 3d reconstruction\n",
    "\n",
    "sofa_dir = os.path.join(parent_dir,\"sofa_points.csv\")\n",
    "data = pd.read_csv(sofa_dir, index_col = \"idx\")\n",
    "\n",
    "sofa_points = {}\n",
    "xy = [\"x\",\"y\"]\n",
    "\n",
    "for i in range(len(data.index)):\n",
    "    sofa_xy = {}\n",
    "    for col_idx in data.columns:\n",
    "        sofa_xy[col_idx] = data.loc[i][col_idx]\n",
    "    sofa_points[i] = sofa_xy\n",
    "\n",
    "    \n",
    "_x01 = xy_pos_data[0][0]\n",
    "_y01 = xy_pos_data[0][1]\n",
    "_x02 = xy_pos_data[1][0]\n",
    "_y02 = xy_pos_data[1][1]\n"
   ],
   "metadata": {
    "collapsed": false,
    "pycharm": {
     "name": "#%%\n",
     "is_executing": false
    }
   }
  },
  {
   "cell_type": "code",
   "execution_count": 23,
   "outputs": [],
   "source": [
    "sofa_dir = os.path.join(parent_dir,\"sofa_points.csv\")\n",
    "data = pd.read_csv(sofa_dir, index_col = \"idx\")"
   ],
   "metadata": {
    "collapsed": false,
    "pycharm": {
     "name": "#%%\n",
     "is_executing": false
    }
   }
  },
  {
   "cell_type": "code",
   "execution_count": 24,
   "outputs": [],
   "source": [
    "data_tri = data.copy()\n",
    "\n",
    "cam_idx_first = 0\n",
    "cam_idx_second = 1\n",
    "tri_00_01 = []\n",
    "\n",
    "for i in data_tri.index:\n",
    "    _x01 = float(data_tri.loc[i][\"x\"+str(cam_idx_first)])\n",
    "    _y01 = float(data_tri.loc[i][\"y\"+str(cam_idx_first)])\n",
    "    _x02 = float(data_tri.loc[i][\"x\"+str(cam_idx_second)])\n",
    "    _y02 = float(data_tri.loc[i][\"y\"+str(cam_idx_second)])\n",
    "    tri_00_01.append(triangulatePoints(_x01,_y01,_x02,_y02,cam_idx_first,cam_idx_second))\n",
    "    "
   ],
   "metadata": {
    "collapsed": false,
    "pycharm": {
     "name": "#%%\n",
     "is_executing": false
    }
   }
  },
  {
   "cell_type": "code",
   "execution_count": 25,
   "outputs": [
    {
     "data": {
      "text/plain": "[array([-1.27128908,  1.06387257,  5.60741768]),\n array([-0.75491387,  0.58966565,  4.57628397]),\n array([0.48666561, 0.34209647, 3.64867758]),\n array([0.7497733 , 0.51554642, 3.72946823]),\n array([-1.29676362,  0.63023679,  5.14691096]),\n array([-0.88119139,  0.27379779,  4.21591129]),\n array([-0.70344733,  0.05108803,  3.98848722]),\n array([ 0.47319009, -0.05143787,  3.24503007]),\n array([0.60185908, 0.0843284 , 3.33146798]),\n array([0.79640022, 0.25372233, 3.43892672])]"
     },
     "metadata": {},
     "output_type": "execute_result",
     "execution_count": 25
    }
   ],
   "source": [
    "tri_00_01"
   ],
   "metadata": {
    "collapsed": false,
    "pycharm": {
     "name": "#%%\n",
     "is_executing": false
    }
   }
  },
  {
   "cell_type": "code",
   "execution_count": 26,
   "outputs": [
    {
     "traceback": [
      "\u001b[1;31m---------------------------------------------------------------------------\u001b[0m",
      "\u001b[1;31merror\u001b[0m                                     Traceback (most recent call last)",
      "\u001b[1;32m<ipython-input-26-6f6ff44ab1d6>\u001b[0m in \u001b[0;36m<module>\u001b[1;34m\u001b[0m\n\u001b[0;32m      9\u001b[0m     \u001b[0m_x02\u001b[0m \u001b[1;33m=\u001b[0m \u001b[0mfloat\u001b[0m\u001b[1;33m(\u001b[0m\u001b[0mdata_tri\u001b[0m\u001b[1;33m.\u001b[0m\u001b[0mloc\u001b[0m\u001b[1;33m[\u001b[0m\u001b[0mi\u001b[0m\u001b[1;33m]\u001b[0m\u001b[1;33m[\u001b[0m\u001b[1;34m\"x\"\u001b[0m\u001b[1;33m+\u001b[0m\u001b[0mstr\u001b[0m\u001b[1;33m(\u001b[0m\u001b[0mcam_idx_second\u001b[0m\u001b[1;33m)\u001b[0m\u001b[1;33m]\u001b[0m\u001b[1;33m)\u001b[0m\u001b[1;33m\u001b[0m\u001b[1;33m\u001b[0m\u001b[0m\n\u001b[0;32m     10\u001b[0m     \u001b[0m_y02\u001b[0m \u001b[1;33m=\u001b[0m \u001b[0mfloat\u001b[0m\u001b[1;33m(\u001b[0m\u001b[0mdata_tri\u001b[0m\u001b[1;33m.\u001b[0m\u001b[0mloc\u001b[0m\u001b[1;33m[\u001b[0m\u001b[0mi\u001b[0m\u001b[1;33m]\u001b[0m\u001b[1;33m[\u001b[0m\u001b[1;34m\"y\"\u001b[0m\u001b[1;33m+\u001b[0m\u001b[0mstr\u001b[0m\u001b[1;33m(\u001b[0m\u001b[0mcam_idx_second\u001b[0m\u001b[1;33m)\u001b[0m\u001b[1;33m]\u001b[0m\u001b[1;33m)\u001b[0m\u001b[1;33m\u001b[0m\u001b[1;33m\u001b[0m\u001b[0m\n\u001b[1;32m---> 11\u001b[1;33m     \u001b[0mtri_01_02\u001b[0m\u001b[1;33m.\u001b[0m\u001b[0mappend\u001b[0m\u001b[1;33m(\u001b[0m\u001b[0mtriangulatePoints\u001b[0m\u001b[1;33m(\u001b[0m\u001b[0m_x01\u001b[0m\u001b[1;33m,\u001b[0m\u001b[0m_y01\u001b[0m\u001b[1;33m,\u001b[0m\u001b[0m_x02\u001b[0m\u001b[1;33m,\u001b[0m\u001b[0m_y02\u001b[0m\u001b[1;33m,\u001b[0m\u001b[0mcam_idx_first\u001b[0m\u001b[1;33m,\u001b[0m\u001b[0mcam_idx_second\u001b[0m\u001b[1;33m)\u001b[0m\u001b[1;33m)\u001b[0m\u001b[1;33m\u001b[0m\u001b[1;33m\u001b[0m\u001b[0m\n\u001b[0m\u001b[0;32m     12\u001b[0m \u001b[1;33m\u001b[0m\u001b[0m\n\u001b[0;32m     13\u001b[0m \u001b[1;33m\u001b[0m\u001b[0m\n",
      "\u001b[1;32m<ipython-input-18-f98f6e4fabba>\u001b[0m in \u001b[0;36mtriangulatePoints\u001b[1;34m(cam01_x, cam01_y, cam02_x, cam02_y, cam01_idx, cam02_idx)\u001b[0m\n\u001b[0;32m     42\u001b[0m \u001b[1;33m\u001b[0m\u001b[0m\n\u001b[0;32m     43\u001b[0m \u001b[1;33m\u001b[0m\u001b[0m\n\u001b[1;32m---> 44\u001b[1;33m     \u001b[0mundistort_x_1\u001b[0m \u001b[1;33m=\u001b[0m \u001b[0mundistort_points\u001b[0m\u001b[1;33m(\u001b[0m\u001b[0mnp\u001b[0m\u001b[1;33m.\u001b[0m\u001b[0marray\u001b[0m\u001b[1;33m(\u001b[0m\u001b[1;33m[\u001b[0m\u001b[1;33m(\u001b[0m\u001b[0mcam02_x\u001b[0m\u001b[1;33m,\u001b[0m\u001b[0mcam02_y\u001b[0m\u001b[1;33m,\u001b[0m\u001b[1;36m1\u001b[0m\u001b[1;33m)\u001b[0m\u001b[1;33m]\u001b[0m\u001b[1;33m)\u001b[0m\u001b[1;33m,\u001b[0m\u001b[0mcam02_idx\u001b[0m\u001b[1;33m)\u001b[0m\u001b[1;33m[\u001b[0m\u001b[1;36m0\u001b[0m\u001b[1;33m]\u001b[0m\u001b[1;33m[\u001b[0m\u001b[1;36m0\u001b[0m\u001b[1;33m]\u001b[0m\u001b[1;33m\u001b[0m\u001b[1;33m\u001b[0m\u001b[0m\n\u001b[0m\u001b[0;32m     45\u001b[0m     \u001b[0mundistort_y_1\u001b[0m \u001b[1;33m=\u001b[0m \u001b[0mundistort_points\u001b[0m\u001b[1;33m(\u001b[0m\u001b[0mnp\u001b[0m\u001b[1;33m.\u001b[0m\u001b[0marray\u001b[0m\u001b[1;33m(\u001b[0m\u001b[1;33m[\u001b[0m\u001b[1;33m(\u001b[0m\u001b[0mcam02_x\u001b[0m\u001b[1;33m,\u001b[0m\u001b[0mcam02_y\u001b[0m\u001b[1;33m,\u001b[0m\u001b[1;36m1\u001b[0m\u001b[1;33m)\u001b[0m\u001b[1;33m]\u001b[0m\u001b[1;33m)\u001b[0m\u001b[1;33m,\u001b[0m\u001b[0mcam02_idx\u001b[0m\u001b[1;33m)\u001b[0m\u001b[1;33m[\u001b[0m\u001b[1;36m0\u001b[0m\u001b[1;33m]\u001b[0m\u001b[1;33m[\u001b[0m\u001b[1;36m1\u001b[0m\u001b[1;33m]\u001b[0m\u001b[1;33m\u001b[0m\u001b[1;33m\u001b[0m\u001b[0m\n\u001b[0;32m     46\u001b[0m \u001b[1;33m\u001b[0m\u001b[0m\n",
      "\u001b[1;32m<ipython-input-18-f98f6e4fabba>\u001b[0m in \u001b[0;36mundistort_points\u001b[1;34m(points2d, camera_index)\u001b[0m\n\u001b[0;32m      9\u001b[0m         \u001b[0mpoints2d_\u001b[0m \u001b[1;33m=\u001b[0m \u001b[0mpoints2d\u001b[0m\u001b[1;33m[\u001b[0m\u001b[1;33m:\u001b[0m\u001b[1;33m,\u001b[0m \u001b[1;36m0\u001b[0m\u001b[1;33m:\u001b[0m\u001b[1;36m2\u001b[0m\u001b[1;33m]\u001b[0m\u001b[1;33m.\u001b[0m\u001b[0mastype\u001b[0m\u001b[1;33m(\u001b[0m\u001b[1;34m'float32'\u001b[0m\u001b[1;33m)\u001b[0m\u001b[1;33m\u001b[0m\u001b[1;33m\u001b[0m\u001b[0m\n\u001b[0;32m     10\u001b[0m         \u001b[0mpoints2d_\u001b[0m \u001b[1;33m=\u001b[0m \u001b[0mnp\u001b[0m\u001b[1;33m.\u001b[0m\u001b[0mexpand_dims\u001b[0m\u001b[1;33m(\u001b[0m\u001b[0mpoints2d_\u001b[0m\u001b[1;33m,\u001b[0m \u001b[0maxis\u001b[0m\u001b[1;33m=\u001b[0m\u001b[1;36m1\u001b[0m\u001b[1;33m)\u001b[0m  \u001b[1;31m# (n, 1, 2)\u001b[0m\u001b[1;33m\u001b[0m\u001b[1;33m\u001b[0m\u001b[0m\n\u001b[1;32m---> 11\u001b[1;33m         \u001b[0mresult\u001b[0m \u001b[1;33m=\u001b[0m \u001b[0mnp\u001b[0m\u001b[1;33m.\u001b[0m\u001b[0msqueeze\u001b[0m\u001b[1;33m(\u001b[0m\u001b[0mcv2\u001b[0m\u001b[1;33m.\u001b[0m\u001b[0mundistortPoints\u001b[0m\u001b[1;33m(\u001b[0m\u001b[0mpoints2d_\u001b[0m\u001b[1;33m,\u001b[0m \u001b[0mK\u001b[0m\u001b[1;33m,\u001b[0m \u001b[0mdistCoef\u001b[0m\u001b[1;33m)\u001b[0m\u001b[1;33m)\u001b[0m\u001b[1;33m\u001b[0m\u001b[1;33m\u001b[0m\u001b[0m\n\u001b[0m\u001b[0;32m     12\u001b[0m \u001b[1;33m\u001b[0m\u001b[0m\n\u001b[0;32m     13\u001b[0m         \u001b[1;32mif\u001b[0m \u001b[0mlen\u001b[0m\u001b[1;33m(\u001b[0m\u001b[0mresult\u001b[0m\u001b[1;33m.\u001b[0m\u001b[0mshape\u001b[0m\u001b[1;33m)\u001b[0m \u001b[1;33m==\u001b[0m \u001b[1;36m1\u001b[0m\u001b[1;33m:\u001b[0m  \u001b[1;31m# only a single point\u001b[0m\u001b[1;33m\u001b[0m\u001b[1;33m\u001b[0m\u001b[0m\n",
      "\u001b[1;31merror\u001b[0m: OpenCV(4.2.0) C:\\projects\\opencv-python\\opencv\\modules\\calib3d\\src\\undistort.dispatch.cpp:284: error: (-215:Assertion failed) CV_IS_MAT(_cameraMatrix) && _cameraMatrix->rows == 3 && _cameraMatrix->cols == 3 in function 'cvUndistortPointsInternal'\n"
     ],
     "ename": "error",
     "evalue": "OpenCV(4.2.0) C:\\projects\\opencv-python\\opencv\\modules\\calib3d\\src\\undistort.dispatch.cpp:284: error: (-215:Assertion failed) CV_IS_MAT(_cameraMatrix) && _cameraMatrix->rows == 3 && _cameraMatrix->cols == 3 in function 'cvUndistortPointsInternal'\n",
     "output_type": "error"
    }
   ],
   "source": [
    "cam_idx_first = 1\n",
    "cam_idx_second = 2\n",
    "tri_01_02 = []\n",
    "\n",
    "\n",
    "for i in data_tri.index:\n",
    "    _x01 = float(data_tri.loc[i][\"x\"+str(cam_idx_first)])\n",
    "    _y01 = float(data_tri.loc[i][\"y\"+str(cam_idx_first)])\n",
    "    _x02 = float(data_tri.loc[i][\"x\"+str(cam_idx_second)])\n",
    "    _y02 = float(data_tri.loc[i][\"y\"+str(cam_idx_second)])\n",
    "    tri_01_02.append(triangulatePoints(_x01,_y01,_x02,_y02,cam_idx_first,cam_idx_second))\n",
    "    "
   ],
   "metadata": {
    "collapsed": false,
    "pycharm": {
     "name": "#%%\n",
     "is_executing": false
    }
   }
  },
  {
   "cell_type": "code",
   "execution_count": 27,
   "outputs": [
    {
     "traceback": [
      "\u001b[1;31m---------------------------------------------------------------------------\u001b[0m",
      "\u001b[1;31merror\u001b[0m                                     Traceback (most recent call last)",
      "\u001b[1;32m<ipython-input-27-862d1b2d657a>\u001b[0m in \u001b[0;36m<module>\u001b[1;34m\u001b[0m\n\u001b[0;32m      8\u001b[0m     \u001b[0m_x02\u001b[0m \u001b[1;33m=\u001b[0m \u001b[0mfloat\u001b[0m\u001b[1;33m(\u001b[0m\u001b[0mdata_tri\u001b[0m\u001b[1;33m.\u001b[0m\u001b[0mloc\u001b[0m\u001b[1;33m[\u001b[0m\u001b[0mi\u001b[0m\u001b[1;33m]\u001b[0m\u001b[1;33m[\u001b[0m\u001b[1;34m\"x\"\u001b[0m\u001b[1;33m+\u001b[0m\u001b[0mstr\u001b[0m\u001b[1;33m(\u001b[0m\u001b[0mcam_idx_second\u001b[0m\u001b[1;33m)\u001b[0m\u001b[1;33m]\u001b[0m\u001b[1;33m)\u001b[0m\u001b[1;33m\u001b[0m\u001b[1;33m\u001b[0m\u001b[0m\n\u001b[0;32m      9\u001b[0m     \u001b[0m_y02\u001b[0m \u001b[1;33m=\u001b[0m \u001b[0mfloat\u001b[0m\u001b[1;33m(\u001b[0m\u001b[0mdata_tri\u001b[0m\u001b[1;33m.\u001b[0m\u001b[0mloc\u001b[0m\u001b[1;33m[\u001b[0m\u001b[0mi\u001b[0m\u001b[1;33m]\u001b[0m\u001b[1;33m[\u001b[0m\u001b[1;34m\"y\"\u001b[0m\u001b[1;33m+\u001b[0m\u001b[0mstr\u001b[0m\u001b[1;33m(\u001b[0m\u001b[0mcam_idx_second\u001b[0m\u001b[1;33m)\u001b[0m\u001b[1;33m]\u001b[0m\u001b[1;33m)\u001b[0m\u001b[1;33m\u001b[0m\u001b[1;33m\u001b[0m\u001b[0m\n\u001b[1;32m---> 10\u001b[1;33m     \u001b[0mtri_00_02\u001b[0m\u001b[1;33m.\u001b[0m\u001b[0mappend\u001b[0m\u001b[1;33m(\u001b[0m\u001b[0mtriangulatePoints\u001b[0m\u001b[1;33m(\u001b[0m\u001b[0m_x01\u001b[0m\u001b[1;33m,\u001b[0m\u001b[0m_y01\u001b[0m\u001b[1;33m,\u001b[0m\u001b[0m_x02\u001b[0m\u001b[1;33m,\u001b[0m\u001b[0m_y02\u001b[0m\u001b[1;33m,\u001b[0m\u001b[0mcam_idx_first\u001b[0m\u001b[1;33m,\u001b[0m\u001b[0mcam_idx_second\u001b[0m\u001b[1;33m)\u001b[0m\u001b[1;33m)\u001b[0m\u001b[1;33m\u001b[0m\u001b[1;33m\u001b[0m\u001b[0m\n\u001b[0m\u001b[0;32m     11\u001b[0m \u001b[1;33m\u001b[0m\u001b[0m\n",
      "\u001b[1;32m<ipython-input-18-f98f6e4fabba>\u001b[0m in \u001b[0;36mtriangulatePoints\u001b[1;34m(cam01_x, cam01_y, cam02_x, cam02_y, cam01_idx, cam02_idx)\u001b[0m\n\u001b[0;32m     42\u001b[0m \u001b[1;33m\u001b[0m\u001b[0m\n\u001b[0;32m     43\u001b[0m \u001b[1;33m\u001b[0m\u001b[0m\n\u001b[1;32m---> 44\u001b[1;33m     \u001b[0mundistort_x_1\u001b[0m \u001b[1;33m=\u001b[0m \u001b[0mundistort_points\u001b[0m\u001b[1;33m(\u001b[0m\u001b[0mnp\u001b[0m\u001b[1;33m.\u001b[0m\u001b[0marray\u001b[0m\u001b[1;33m(\u001b[0m\u001b[1;33m[\u001b[0m\u001b[1;33m(\u001b[0m\u001b[0mcam02_x\u001b[0m\u001b[1;33m,\u001b[0m\u001b[0mcam02_y\u001b[0m\u001b[1;33m,\u001b[0m\u001b[1;36m1\u001b[0m\u001b[1;33m)\u001b[0m\u001b[1;33m]\u001b[0m\u001b[1;33m)\u001b[0m\u001b[1;33m,\u001b[0m\u001b[0mcam02_idx\u001b[0m\u001b[1;33m)\u001b[0m\u001b[1;33m[\u001b[0m\u001b[1;36m0\u001b[0m\u001b[1;33m]\u001b[0m\u001b[1;33m[\u001b[0m\u001b[1;36m0\u001b[0m\u001b[1;33m]\u001b[0m\u001b[1;33m\u001b[0m\u001b[1;33m\u001b[0m\u001b[0m\n\u001b[0m\u001b[0;32m     45\u001b[0m     \u001b[0mundistort_y_1\u001b[0m \u001b[1;33m=\u001b[0m \u001b[0mundistort_points\u001b[0m\u001b[1;33m(\u001b[0m\u001b[0mnp\u001b[0m\u001b[1;33m.\u001b[0m\u001b[0marray\u001b[0m\u001b[1;33m(\u001b[0m\u001b[1;33m[\u001b[0m\u001b[1;33m(\u001b[0m\u001b[0mcam02_x\u001b[0m\u001b[1;33m,\u001b[0m\u001b[0mcam02_y\u001b[0m\u001b[1;33m,\u001b[0m\u001b[1;36m1\u001b[0m\u001b[1;33m)\u001b[0m\u001b[1;33m]\u001b[0m\u001b[1;33m)\u001b[0m\u001b[1;33m,\u001b[0m\u001b[0mcam02_idx\u001b[0m\u001b[1;33m)\u001b[0m\u001b[1;33m[\u001b[0m\u001b[1;36m0\u001b[0m\u001b[1;33m]\u001b[0m\u001b[1;33m[\u001b[0m\u001b[1;36m1\u001b[0m\u001b[1;33m]\u001b[0m\u001b[1;33m\u001b[0m\u001b[1;33m\u001b[0m\u001b[0m\n\u001b[0;32m     46\u001b[0m \u001b[1;33m\u001b[0m\u001b[0m\n",
      "\u001b[1;32m<ipython-input-18-f98f6e4fabba>\u001b[0m in \u001b[0;36mundistort_points\u001b[1;34m(points2d, camera_index)\u001b[0m\n\u001b[0;32m      9\u001b[0m         \u001b[0mpoints2d_\u001b[0m \u001b[1;33m=\u001b[0m \u001b[0mpoints2d\u001b[0m\u001b[1;33m[\u001b[0m\u001b[1;33m:\u001b[0m\u001b[1;33m,\u001b[0m \u001b[1;36m0\u001b[0m\u001b[1;33m:\u001b[0m\u001b[1;36m2\u001b[0m\u001b[1;33m]\u001b[0m\u001b[1;33m.\u001b[0m\u001b[0mastype\u001b[0m\u001b[1;33m(\u001b[0m\u001b[1;34m'float32'\u001b[0m\u001b[1;33m)\u001b[0m\u001b[1;33m\u001b[0m\u001b[1;33m\u001b[0m\u001b[0m\n\u001b[0;32m     10\u001b[0m         \u001b[0mpoints2d_\u001b[0m \u001b[1;33m=\u001b[0m \u001b[0mnp\u001b[0m\u001b[1;33m.\u001b[0m\u001b[0mexpand_dims\u001b[0m\u001b[1;33m(\u001b[0m\u001b[0mpoints2d_\u001b[0m\u001b[1;33m,\u001b[0m \u001b[0maxis\u001b[0m\u001b[1;33m=\u001b[0m\u001b[1;36m1\u001b[0m\u001b[1;33m)\u001b[0m  \u001b[1;31m# (n, 1, 2)\u001b[0m\u001b[1;33m\u001b[0m\u001b[1;33m\u001b[0m\u001b[0m\n\u001b[1;32m---> 11\u001b[1;33m         \u001b[0mresult\u001b[0m \u001b[1;33m=\u001b[0m \u001b[0mnp\u001b[0m\u001b[1;33m.\u001b[0m\u001b[0msqueeze\u001b[0m\u001b[1;33m(\u001b[0m\u001b[0mcv2\u001b[0m\u001b[1;33m.\u001b[0m\u001b[0mundistortPoints\u001b[0m\u001b[1;33m(\u001b[0m\u001b[0mpoints2d_\u001b[0m\u001b[1;33m,\u001b[0m \u001b[0mK\u001b[0m\u001b[1;33m,\u001b[0m \u001b[0mdistCoef\u001b[0m\u001b[1;33m)\u001b[0m\u001b[1;33m)\u001b[0m\u001b[1;33m\u001b[0m\u001b[1;33m\u001b[0m\u001b[0m\n\u001b[0m\u001b[0;32m     12\u001b[0m \u001b[1;33m\u001b[0m\u001b[0m\n\u001b[0;32m     13\u001b[0m         \u001b[1;32mif\u001b[0m \u001b[0mlen\u001b[0m\u001b[1;33m(\u001b[0m\u001b[0mresult\u001b[0m\u001b[1;33m.\u001b[0m\u001b[0mshape\u001b[0m\u001b[1;33m)\u001b[0m \u001b[1;33m==\u001b[0m \u001b[1;36m1\u001b[0m\u001b[1;33m:\u001b[0m  \u001b[1;31m# only a single point\u001b[0m\u001b[1;33m\u001b[0m\u001b[1;33m\u001b[0m\u001b[0m\n",
      "\u001b[1;31merror\u001b[0m: OpenCV(4.2.0) C:\\projects\\opencv-python\\opencv\\modules\\calib3d\\src\\undistort.dispatch.cpp:284: error: (-215:Assertion failed) CV_IS_MAT(_cameraMatrix) && _cameraMatrix->rows == 3 && _cameraMatrix->cols == 3 in function 'cvUndistortPointsInternal'\n"
     ],
     "ename": "error",
     "evalue": "OpenCV(4.2.0) C:\\projects\\opencv-python\\opencv\\modules\\calib3d\\src\\undistort.dispatch.cpp:284: error: (-215:Assertion failed) CV_IS_MAT(_cameraMatrix) && _cameraMatrix->rows == 3 && _cameraMatrix->cols == 3 in function 'cvUndistortPointsInternal'\n",
     "output_type": "error"
    }
   ],
   "source": [
    "cam_idx_first = 0\n",
    "cam_idx_second = 2\n",
    "tri_00_02 = []\n",
    "\n",
    "for i in data_tri.index:\n",
    "    _x01 = float(data_tri.loc[i][\"x\"+str(cam_idx_first)])\n",
    "    _y01 = float(data_tri.loc[i][\"y\"+str(cam_idx_first)])\n",
    "    _x02 = float(data_tri.loc[i][\"x\"+str(cam_idx_second)])\n",
    "    _y02 = float(data_tri.loc[i][\"y\"+str(cam_idx_second)])\n",
    "    tri_00_02.append(triangulatePoints(_x01,_y01,_x02,_y02,cam_idx_first,cam_idx_second))"
   ],
   "metadata": {
    "collapsed": false,
    "pycharm": {
     "name": "#%%\n",
     "is_executing": false
    }
   }
  },
  {
   "cell_type": "code",
   "execution_count": 28,
   "outputs": [
    {
     "traceback": [
      "\u001b[1;31m---------------------------------------------------------------------------\u001b[0m",
      "\u001b[1;31mValueError\u001b[0m                                Traceback (most recent call last)",
      "\u001b[1;32m<ipython-input-28-0ab7aa032ce4>\u001b[0m in \u001b[0;36m<module>\u001b[1;34m\u001b[0m\n\u001b[1;32m----> 1\u001b[1;33m \u001b[0mtri_avg\u001b[0m \u001b[1;33m=\u001b[0m \u001b[1;33m(\u001b[0m\u001b[0mnp\u001b[0m\u001b[1;33m.\u001b[0m\u001b[0marray\u001b[0m\u001b[1;33m(\u001b[0m\u001b[0mtri_00_01\u001b[0m\u001b[1;33m)\u001b[0m \u001b[1;33m+\u001b[0m \u001b[0mnp\u001b[0m\u001b[1;33m.\u001b[0m\u001b[0marray\u001b[0m\u001b[1;33m(\u001b[0m\u001b[0mtri_00_02\u001b[0m\u001b[1;33m)\u001b[0m \u001b[1;33m+\u001b[0m \u001b[0mnp\u001b[0m\u001b[1;33m.\u001b[0m\u001b[0marray\u001b[0m\u001b[1;33m(\u001b[0m\u001b[0mtri_01_02\u001b[0m\u001b[1;33m)\u001b[0m\u001b[1;33m)\u001b[0m\u001b[1;33m/\u001b[0m\u001b[1;36m3\u001b[0m\u001b[1;33m\u001b[0m\u001b[1;33m\u001b[0m\u001b[0m\n\u001b[0m\u001b[0;32m      2\u001b[0m \u001b[1;33m\u001b[0m\u001b[0m\n\u001b[0;32m      3\u001b[0m \u001b[1;33m\u001b[0m\u001b[0m\n",
      "\u001b[1;31mValueError\u001b[0m: operands could not be broadcast together with shapes (10,3) (0,) "
     ],
     "ename": "ValueError",
     "evalue": "operands could not be broadcast together with shapes (10,3) (0,) ",
     "output_type": "error"
    }
   ],
   "source": [
    "tri_avg = (np.array(tri_00_01) + np.array(tri_00_02) + np.array(tri_01_02))/3\n"
   ],
   "metadata": {
    "collapsed": false,
    "pycharm": {
     "name": "#%%\n",
     "is_executing": false
    }
   }
  },
  {
   "cell_type": "code",
   "execution_count": 45,
   "outputs": [],
   "source": [
    "import glob\n",
    "import numpy as np\n",
    "import math\n",
    "import cv2\n",
    "from cv2 import aruco\n",
    "import os\n",
    "import matplotlib.pyplot as plt\n",
    "import pandas as pd\n",
    "\n",
    "def getVectorFromDic(idx0, idx1):\n",
    "    return marker_dict[idx0][\"tvec\"] - marker_dict[idx1][\"tvec\"]\n",
    "\n",
    "def getPositionFromDic(idx0):\n",
    "    return marker_dict[idx0][\"tvec\"]\n",
    "def getAngleFromDic(idx1, idx0, idx2):\n",
    "    return getAngle(getVectorFromDic(idx2, idx0), getVectorFromDic(idx1, idx0))\n",
    "\n",
    "def getDistanceFromDic(idx0, idx1):\n",
    "    return np.linalg.norm(getVectorFromDic(idx0, idx1))\n",
    "\n",
    "def getJointVec(arr, joint_num):\n",
    "    return np.array(arr[joint_num * 4:joint_num * 4 + 3])\n",
    "\n",
    "def normalization(vec):\n",
    "    return vec / np.linalg.norm(vec)\n",
    "\n",
    "\n",
    "def getSize(vec):\n",
    "    return np.linalg.norm(vec)\n",
    "\n",
    "\n",
    "def dotproduct(v1, v2):\n",
    "    return sum((a * b) for a, b in zip(v1, v2))\n",
    "\n",
    "\n",
    "def length(v):\n",
    "    return math.sqrt(dotproduct(v, v))\n",
    "\n",
    "\n",
    "def getAngle(v1, v2):\n",
    "    return math.degrees(math.acos(dotproduct(v1, v2) / (length(v1) * length(v2))))\n",
    "\n",
    "def vec_norm(vec):\n",
    "    return vec / np.linalg.norm(vec)\n",
    "\n",
    "def getUpVectorFromRvecs(idx):\n",
    "    rtx = cv2.Rodrigues(rvecs[idx])[0]\n",
    "    return rtx.T[2]\n",
    "\n",
    "def getCenterOnImageFromDic(idx):\n",
    "    return np.average(marker_dict[idx][\"corner\"], axis=0)\n",
    "\n",
    "def getCenterOnImageFromDic(idx):\n",
    "    return np.average(marker_dict[idx][\"corner\"], axis=0)\n",
    "\n",
    "''' \n",
    "Load cameraparameters \n",
    "'''\n",
    "parameter_dir = r\"C:\\Users\\ZAIO\\dev\\openpose\\openpose\\models\\cameraParameters\\flir\\20200810\"\n",
    "\n",
    "camera_parameters = {}\n",
    "# camera_idxs = [\"18284509\",\"18284511\",\"18284512\"]\n",
    "camera_idxs = [\"18284509\",\"18284511\"]\n",
    "parameter_types = [\"CameraMatrix\", \"Intrinsics\", \"Distortion\"]\n",
    "\n",
    "for camera_idx in camera_idxs:\n",
    "    fileToLoad = os.path.join(parameter_dir, camera_idx + \".xml\")\n",
    "    fs = cv2.FileStorage(fileToLoad, cv2.FILE_STORAGE_READ)\n",
    "    _camera_parameter = {}\n",
    "    for parameter_type in parameter_types:\n",
    "        _camera_parameter[parameter_type] = fs.getNode(parameter_type).mat()\n",
    "        camera_parameters[camera_idx] = _camera_parameter\n",
    "\n",
    "# 3d points to image (2nd image)\n",
    "extri = [0] * 3\n",
    "intri = [0] * 3\n",
    "dist = [0] * 3\n",
    "\n",
    "for i in range(len(camera_idxs)):\n",
    "    rotation_matrix = camera_parameters[camera_idxs[i]][parameter_types[0]][:, 0:3]\n",
    "    rvec, _ = cv2.Rodrigues(rotation_matrix)\n",
    "    tvec = camera_parameters[camera_idxs[i]][parameter_types[0]][:, 3]\n",
    "\n",
    "    extri[i] = camera_parameters[camera_idxs[i]][parameter_types[0]]\n",
    "    intri[i] = camera_parameters[camera_idxs[i]][parameter_types[1]]\n",
    "    dist[i] = camera_parameters[camera_idxs[i]][parameter_types[2]]\n"
   ],
   "metadata": {
    "collapsed": false,
    "pycharm": {
     "name": "#%%\n",
     "is_executing": false
    }
   }
  },
  {
   "cell_type": "code",
   "execution_count": 46,
   "outputs": [
    {
     "data": {
      "text/plain": "'\\nframe_markers = aruco.drawDetectedMarkers(frame.copy(), corners, ids)\\n\\nrvecs, tvecs, objPts = aruco.estimatePoseSingleMarkers(corners, markerLength, mtx, dist)\\nimaxis = aruco.drawDetectedMarkers(frame.copy(), corners, ids)\\nif rvecs is not None and len(rvecs) == 4:\\n    for i in range(len(rvecs)):\\n        imaxis = aruco.drawAxis(imaxis, mtx, dist, rvecs[i], tvecs[i], length_of_axis)\\n\\n    # Marker data to dictionary\\n    marker_dict = {}\\n\\n    for idx, marker_index in enumerate(ids):\\n        marker_index = marker_index[0]\\n        _vecs = {}\\n        _vecs[\"rvec\"] = rvecs[idx][0]\\n        _vecs[\"tvec\"] = tvecs[idx][0]\\n        _vecs[\"corner\"] = corners[idx][0]\\n        marker_dict[marker_index] = _vecs\\n    # print(\"tvecs and rvecs for each marker\\n\")\\n    # pp.pprint(marker_dict)\\n\\n    plt.figure()\\n    plt.figure(figsize=(15, 15))\\n\\n    data_array = []\\n    for idx0, idx1 in [[0, 1], [1, 2], [2, 3]]:\\n        cen_x, cen_y = np.average([getCenterOnImageFromDic(idx0), getCenterOnImageFromDic(idx1)], axis=0)\\n        distance = getDistanceFromDic(idx0, idx1)\\n        text = plt.text(int(cen_x), int(cen_y), \"{:.3f}m\".format(distance), fontsize=9, color=\"red\")\\n        data_array.append(distance)\\n        text.set_bbox(dict(facecolor=\\'white\\', alpha=1, edgecolor=\\'white\\'))\\n    plt.imshow(imaxis)\\n    dir, file = os.path.split(image_data)\\n    new_dir = os.path.join(dir, \"processed\")\\n    print(os.path.join(new_dir, file))\\n    plt.savefig(os.path.join(new_dir, file), dpi=300)\\n    data_dic[file] = data_array\\n    # plt.show()\\n'"
     },
     "metadata": {},
     "output_type": "execute_result",
     "execution_count": 46
    }
   ],
   "source": [
    "# imagefiles_dir = r'I:\\20200814_SteroTest\\cam02'\n",
    "# os.mkdir(os.path.join(imagefiles_dir,\"processed\"))\n",
    "# imagefiles_dir_png = os.path.join(imagefiles_dir,\"*.png\")\n",
    "# imagefiles = glob.glob(imagefiles_dir_png)\n",
    "# print(imagefiles)\n",
    "\n",
    "image_data = r\"I:\\20200814_SteroTest\\000000000010_rendered.png\"\n",
    "camera_index = 0\n",
    "mtx = camera_parameters[camera_idxs[camera_index]][parameter_types[1]]\n",
    "dist = camera_parameters[camera_idxs[camera_index]][parameter_types[2]]\n",
    "\n",
    "data_dic = {}\n",
    "\n",
    "aruco_dict = aruco.Dictionary_get(aruco.DICT_6X6_250)\n",
    "length_of_axis = 0.09\n",
    "markerLength = 0.18\n",
    "\n",
    "frame = cv2.imread(image_data, cv2.IMREAD_UNCHANGED)\n",
    "frame = cv2.cvtColor(frame, cv2.COLOR_RGB2BGR)\n",
    "\n",
    "gray = cv2.cvtColor(frame, cv2.COLOR_BGR2GRAY)\n",
    "parameters = aruco.DetectorParameters_create()\n",
    "corners, ids, rejectedImgPoints = aruco.detectMarkers(gray, aruco_dict, parameters=parameters)\n",
    "\n",
    "\n",
    "\n",
    "'''\n",
    "frame_markers = aruco.drawDetectedMarkers(frame.copy(), corners, ids)\n",
    "\n",
    "rvecs, tvecs, objPts = aruco.estimatePoseSingleMarkers(corners, markerLength, mtx, dist)\n",
    "imaxis = aruco.drawDetectedMarkers(frame.copy(), corners, ids)\n",
    "if rvecs is not None and len(rvecs) == 4:\n",
    "    for i in range(len(rvecs)):\n",
    "        imaxis = aruco.drawAxis(imaxis, mtx, dist, rvecs[i], tvecs[i], length_of_axis)\n",
    "\n",
    "    # Marker data to dictionary\n",
    "    marker_dict = {}\n",
    "\n",
    "    for idx, marker_index in enumerate(ids):\n",
    "        marker_index = marker_index[0]\n",
    "        _vecs = {}\n",
    "        _vecs[\"rvec\"] = rvecs[idx][0]\n",
    "        _vecs[\"tvec\"] = tvecs[idx][0]\n",
    "        _vecs[\"corner\"] = corners[idx][0]\n",
    "        marker_dict[marker_index] = _vecs\n",
    "    # print(\"tvecs and rvecs for each marker\\n\")\n",
    "    # pp.pprint(marker_dict)\n",
    "\n",
    "    plt.figure()\n",
    "    plt.figure(figsize=(15, 15))\n",
    "\n",
    "    data_array = []\n",
    "    for idx0, idx1 in [[0, 1], [1, 2], [2, 3]]:\n",
    "        cen_x, cen_y = np.average([getCenterOnImageFromDic(idx0), getCenterOnImageFromDic(idx1)], axis=0)\n",
    "        distance = getDistanceFromDic(idx0, idx1)\n",
    "        text = plt.text(int(cen_x), int(cen_y), \"{:.3f}m\".format(distance), fontsize=9, color=\"red\")\n",
    "        data_array.append(distance)\n",
    "        text.set_bbox(dict(facecolor='white', alpha=1, edgecolor='white'))\n",
    "    plt.imshow(imaxis)\n",
    "    dir, file = os.path.split(image_data)\n",
    "    new_dir = os.path.join(dir, \"processed\")\n",
    "    print(os.path.join(new_dir, file))\n",
    "    plt.savefig(os.path.join(new_dir, file), dpi=300)\n",
    "    data_dic[file] = data_array\n",
    "    # plt.show()\n",
    "'''"
   ],
   "metadata": {
    "collapsed": false,
    "pycharm": {
     "name": "#%%\n",
     "is_executing": false
    }
   }
  },
  {
   "cell_type": "code",
   "execution_count": 47,
   "outputs": [],
   "source": [
    "marker_dict00 = {}\n",
    "marker_dict01 = {}"
   ],
   "metadata": {
    "collapsed": false,
    "pycharm": {
     "name": "#%%\n",
     "is_executing": false
    }
   }
  },
  {
   "cell_type": "code",
   "execution_count": 48,
   "outputs": [],
   "source": [
    "image_data = r\"I:\\20200814_SteroTest\\000000000010_rendered.png\"\n",
    "camera_index = 0\n",
    "mtx = camera_parameters[camera_idxs[camera_index]][parameter_types[1]]\n",
    "dist = camera_parameters[camera_idxs[camera_index]][parameter_types[2]]\n",
    "\n",
    "data_dic = {}\n",
    "\n",
    "aruco_dict = aruco.Dictionary_get(aruco.DICT_6X6_250)\n",
    "length_of_axis = 0.09\n",
    "markerLength = 0.18\n",
    "\n",
    "frame = cv2.imread(image_data, cv2.IMREAD_UNCHANGED)\n",
    "frame = cv2.cvtColor(frame, cv2.COLOR_RGB2BGR)\n",
    "\n",
    "gray = cv2.cvtColor(frame, cv2.COLOR_BGR2GRAY)\n",
    "parameters = aruco.DetectorParameters_create()\n",
    "corners, ids, rejectedImgPoints = aruco.detectMarkers(gray, aruco_dict, parameters=parameters)\n",
    "\n",
    "for idx, marker_index in enumerate(ids):\n",
    "    marker_index = marker_index[0]\n",
    "    _vecs = {}\n",
    "    _vecs[\"corner\"] = corners[idx][0]\n",
    "    marker_dict00[marker_index] = _vecs"
   ],
   "metadata": {
    "collapsed": false,
    "pycharm": {
     "name": "#%%\n",
     "is_executing": false
    }
   }
  },
  {
   "cell_type": "code",
   "execution_count": 49,
   "outputs": [],
   "source": [
    "image_data = r\"I:\\20200814_SteroTest\\000000000010_rendered_1.png\"\n",
    "camera_index = 1\n",
    "mtx = camera_parameters[camera_idxs[camera_index]][parameter_types[1]]\n",
    "dist = camera_parameters[camera_idxs[camera_index]][parameter_types[2]]\n",
    "\n",
    "data_dic = {}\n",
    "\n",
    "aruco_dict = aruco.Dictionary_get(aruco.DICT_6X6_250)\n",
    "length_of_axis = 0.09\n",
    "markerLength = 0.18\n",
    "\n",
    "frame = cv2.imread(image_data, cv2.IMREAD_UNCHANGED)\n",
    "frame = cv2.cvtColor(frame, cv2.COLOR_RGB2BGR)\n",
    "\n",
    "gray = cv2.cvtColor(frame, cv2.COLOR_BGR2GRAY)\n",
    "parameters = aruco.DetectorParameters_create()\n",
    "corners, ids, rejectedImgPoints = aruco.detectMarkers(gray, aruco_dict, parameters=parameters)\n",
    "for idx, marker_index in enumerate(ids):\n",
    "    marker_index = marker_index[0]\n",
    "    _vecs = {}\n",
    "    _vecs[\"corner\"] = corners[idx][0]\n",
    "    marker_dict01[marker_index] = _vecs\n"
   ],
   "metadata": {
    "collapsed": false,
    "pycharm": {
     "name": "#%%\n",
     "is_executing": false
    }
   }
  },
  {
   "cell_type": "code",
   "execution_count": 50,
   "outputs": [
    {
     "data": {
      "text/plain": "array([[207., 664.],\n       [319., 672.],\n       [309., 788.],\n       [193., 778.]], dtype=float32)"
     },
     "metadata": {},
     "output_type": "execute_result",
     "execution_count": 50
    }
   ],
   "source": [
    "marker_dict00[0][\"corner\"]\n",
    "marker_dict01[0][\"corner\"]"
   ],
   "metadata": {
    "collapsed": false,
    "pycharm": {
     "name": "#%%\n",
     "is_executing": false
    }
   }
  },
  {
   "cell_type": "code",
   "execution_count": 51,
   "outputs": [
    {
     "traceback": [
      "\u001b[1;31m---------------------------------------------------------------------------\u001b[0m",
      "\u001b[1;31merror\u001b[0m                                     Traceback (most recent call last)",
      "\u001b[1;32m<ipython-input-51-6c16bab2bbe0>\u001b[0m in \u001b[0;36m<module>\u001b[1;34m\u001b[0m\n\u001b[0;32m      5\u001b[0m \u001b[0m_x01\u001b[0m\u001b[1;33m,\u001b[0m\u001b[0m_y01\u001b[0m \u001b[1;33m=\u001b[0m \u001b[0mmarker_dict00\u001b[0m\u001b[1;33m[\u001b[0m\u001b[1;36m0\u001b[0m\u001b[1;33m]\u001b[0m\u001b[1;33m[\u001b[0m\u001b[1;34m\"corner\"\u001b[0m\u001b[1;33m]\u001b[0m\u001b[1;33m[\u001b[0m\u001b[1;36m0\u001b[0m\u001b[1;33m]\u001b[0m\u001b[1;33m\u001b[0m\u001b[1;33m\u001b[0m\u001b[0m\n\u001b[0;32m      6\u001b[0m \u001b[0m_x02\u001b[0m\u001b[1;33m,\u001b[0m \u001b[0m_y02\u001b[0m\u001b[1;33m=\u001b[0m \u001b[0mmarker_dict01\u001b[0m\u001b[1;33m[\u001b[0m\u001b[1;36m0\u001b[0m\u001b[1;33m]\u001b[0m\u001b[1;33m[\u001b[0m\u001b[1;34m\"corner\"\u001b[0m\u001b[1;33m]\u001b[0m\u001b[1;33m[\u001b[0m\u001b[1;36m0\u001b[0m\u001b[1;33m]\u001b[0m\u001b[1;33m\u001b[0m\u001b[1;33m\u001b[0m\u001b[0m\n\u001b[1;32m----> 7\u001b[1;33m \u001b[0mtri_00_01\u001b[0m\u001b[1;33m.\u001b[0m\u001b[0mappend\u001b[0m\u001b[1;33m(\u001b[0m\u001b[0mtriangulatePoints\u001b[0m\u001b[1;33m(\u001b[0m\u001b[0m_x01\u001b[0m\u001b[1;33m,\u001b[0m\u001b[0m_y01\u001b[0m\u001b[1;33m,\u001b[0m\u001b[0m_x02\u001b[0m\u001b[1;33m,\u001b[0m\u001b[0m_y02\u001b[0m\u001b[1;33m,\u001b[0m\u001b[0mcam_idx_first\u001b[0m\u001b[1;33m,\u001b[0m\u001b[0mcam_idx_second\u001b[0m\u001b[1;33m)\u001b[0m\u001b[1;33m)\u001b[0m\u001b[1;33m\u001b[0m\u001b[1;33m\u001b[0m\u001b[0m\n\u001b[0m\u001b[0;32m      8\u001b[0m \u001b[0mtri_00_01\u001b[0m\u001b[1;33m\u001b[0m\u001b[1;33m\u001b[0m\u001b[0m\n",
      "\u001b[1;32m<ipython-input-36-f98f6e4fabba>\u001b[0m in \u001b[0;36mtriangulatePoints\u001b[1;34m(cam01_x, cam01_y, cam02_x, cam02_y, cam01_idx, cam02_idx)\u001b[0m\n\u001b[0;32m     38\u001b[0m \u001b[1;32mdef\u001b[0m \u001b[0mtriangulatePoints\u001b[0m\u001b[1;33m(\u001b[0m\u001b[0mcam01_x\u001b[0m\u001b[1;33m,\u001b[0m\u001b[0mcam01_y\u001b[0m\u001b[1;33m,\u001b[0m\u001b[0mcam02_x\u001b[0m\u001b[1;33m,\u001b[0m\u001b[0mcam02_y\u001b[0m\u001b[1;33m,\u001b[0m\u001b[0mcam01_idx\u001b[0m\u001b[1;33m,\u001b[0m\u001b[0mcam02_idx\u001b[0m\u001b[1;33m)\u001b[0m\u001b[1;33m:\u001b[0m\u001b[1;33m\u001b[0m\u001b[1;33m\u001b[0m\u001b[0m\n\u001b[0;32m     39\u001b[0m \u001b[1;33m\u001b[0m\u001b[0m\n\u001b[1;32m---> 40\u001b[1;33m     \u001b[0mundistort_x_0\u001b[0m \u001b[1;33m=\u001b[0m \u001b[0mundistort_points\u001b[0m\u001b[1;33m(\u001b[0m\u001b[0mnp\u001b[0m\u001b[1;33m.\u001b[0m\u001b[0marray\u001b[0m\u001b[1;33m(\u001b[0m\u001b[1;33m[\u001b[0m\u001b[1;33m(\u001b[0m\u001b[0mcam01_x\u001b[0m\u001b[1;33m,\u001b[0m\u001b[0mcam01_y\u001b[0m\u001b[1;33m,\u001b[0m\u001b[1;36m1\u001b[0m\u001b[1;33m)\u001b[0m\u001b[1;33m]\u001b[0m\u001b[1;33m)\u001b[0m\u001b[1;33m,\u001b[0m\u001b[0mcam01_idx\u001b[0m\u001b[1;33m)\u001b[0m\u001b[1;33m[\u001b[0m\u001b[1;36m0\u001b[0m\u001b[1;33m]\u001b[0m\u001b[1;33m[\u001b[0m\u001b[1;36m0\u001b[0m\u001b[1;33m]\u001b[0m\u001b[1;33m\u001b[0m\u001b[1;33m\u001b[0m\u001b[0m\n\u001b[0m\u001b[0;32m     41\u001b[0m     \u001b[0mundistort_y_0\u001b[0m \u001b[1;33m=\u001b[0m \u001b[0mundistort_points\u001b[0m\u001b[1;33m(\u001b[0m\u001b[0mnp\u001b[0m\u001b[1;33m.\u001b[0m\u001b[0marray\u001b[0m\u001b[1;33m(\u001b[0m\u001b[1;33m[\u001b[0m\u001b[1;33m(\u001b[0m\u001b[0mcam01_x\u001b[0m\u001b[1;33m,\u001b[0m\u001b[0mcam01_y\u001b[0m\u001b[1;33m,\u001b[0m\u001b[1;36m1\u001b[0m\u001b[1;33m)\u001b[0m\u001b[1;33m]\u001b[0m\u001b[1;33m)\u001b[0m\u001b[1;33m,\u001b[0m\u001b[0mcam01_idx\u001b[0m\u001b[1;33m)\u001b[0m\u001b[1;33m[\u001b[0m\u001b[1;36m0\u001b[0m\u001b[1;33m]\u001b[0m\u001b[1;33m[\u001b[0m\u001b[1;36m1\u001b[0m\u001b[1;33m]\u001b[0m\u001b[1;33m\u001b[0m\u001b[1;33m\u001b[0m\u001b[0m\n\u001b[0;32m     42\u001b[0m \u001b[1;33m\u001b[0m\u001b[0m\n",
      "\u001b[1;32m<ipython-input-36-f98f6e4fabba>\u001b[0m in \u001b[0;36mundistort_points\u001b[1;34m(points2d, camera_index)\u001b[0m\n\u001b[0;32m      9\u001b[0m         \u001b[0mpoints2d_\u001b[0m \u001b[1;33m=\u001b[0m \u001b[0mpoints2d\u001b[0m\u001b[1;33m[\u001b[0m\u001b[1;33m:\u001b[0m\u001b[1;33m,\u001b[0m \u001b[1;36m0\u001b[0m\u001b[1;33m:\u001b[0m\u001b[1;36m2\u001b[0m\u001b[1;33m]\u001b[0m\u001b[1;33m.\u001b[0m\u001b[0mastype\u001b[0m\u001b[1;33m(\u001b[0m\u001b[1;34m'float32'\u001b[0m\u001b[1;33m)\u001b[0m\u001b[1;33m\u001b[0m\u001b[1;33m\u001b[0m\u001b[0m\n\u001b[0;32m     10\u001b[0m         \u001b[0mpoints2d_\u001b[0m \u001b[1;33m=\u001b[0m \u001b[0mnp\u001b[0m\u001b[1;33m.\u001b[0m\u001b[0mexpand_dims\u001b[0m\u001b[1;33m(\u001b[0m\u001b[0mpoints2d_\u001b[0m\u001b[1;33m,\u001b[0m \u001b[0maxis\u001b[0m\u001b[1;33m=\u001b[0m\u001b[1;36m1\u001b[0m\u001b[1;33m)\u001b[0m  \u001b[1;31m# (n, 1, 2)\u001b[0m\u001b[1;33m\u001b[0m\u001b[1;33m\u001b[0m\u001b[0m\n\u001b[1;32m---> 11\u001b[1;33m         \u001b[0mresult\u001b[0m \u001b[1;33m=\u001b[0m \u001b[0mnp\u001b[0m\u001b[1;33m.\u001b[0m\u001b[0msqueeze\u001b[0m\u001b[1;33m(\u001b[0m\u001b[0mcv2\u001b[0m\u001b[1;33m.\u001b[0m\u001b[0mundistortPoints\u001b[0m\u001b[1;33m(\u001b[0m\u001b[0mpoints2d_\u001b[0m\u001b[1;33m,\u001b[0m \u001b[0mK\u001b[0m\u001b[1;33m,\u001b[0m \u001b[0mdistCoef\u001b[0m\u001b[1;33m)\u001b[0m\u001b[1;33m)\u001b[0m\u001b[1;33m\u001b[0m\u001b[1;33m\u001b[0m\u001b[0m\n\u001b[0m\u001b[0;32m     12\u001b[0m \u001b[1;33m\u001b[0m\u001b[0m\n\u001b[0;32m     13\u001b[0m         \u001b[1;32mif\u001b[0m \u001b[0mlen\u001b[0m\u001b[1;33m(\u001b[0m\u001b[0mresult\u001b[0m\u001b[1;33m.\u001b[0m\u001b[0mshape\u001b[0m\u001b[1;33m)\u001b[0m \u001b[1;33m==\u001b[0m \u001b[1;36m1\u001b[0m\u001b[1;33m:\u001b[0m  \u001b[1;31m# only a single point\u001b[0m\u001b[1;33m\u001b[0m\u001b[1;33m\u001b[0m\u001b[0m\n",
      "\u001b[1;31merror\u001b[0m: OpenCV(4.2.0) C:\\projects\\opencv-python\\opencv\\modules\\calib3d\\src\\undistort.dispatch.cpp:297: error: (-215:Assertion failed) CV_IS_MAT(_distCoeffs) && (_distCoeffs->rows == 1 || _distCoeffs->cols == 1) && (_distCoeffs->rows*_distCoeffs->cols == 4 || _distCoeffs->rows*_distCoeffs->cols == 5 || _distCoeffs->rows*_distCoeffs->cols == 8 || _distCoeffs->rows*_distCoeffs->cols == 12 || _distCoeffs->rows*_distCoeffs->cols == 14) in function 'cvUndistortPointsInternal'\n"
     ],
     "ename": "error",
     "evalue": "OpenCV(4.2.0) C:\\projects\\opencv-python\\opencv\\modules\\calib3d\\src\\undistort.dispatch.cpp:297: error: (-215:Assertion failed) CV_IS_MAT(_distCoeffs) && (_distCoeffs->rows == 1 || _distCoeffs->cols == 1) && (_distCoeffs->rows*_distCoeffs->cols == 4 || _distCoeffs->rows*_distCoeffs->cols == 5 || _distCoeffs->rows*_distCoeffs->cols == 8 || _distCoeffs->rows*_distCoeffs->cols == 12 || _distCoeffs->rows*_distCoeffs->cols == 14) in function 'cvUndistortPointsInternal'\n",
     "output_type": "error"
    }
   ],
   "source": [
    "\n",
    "cam_idx_first = 0\n",
    "cam_idx_second = 1\n",
    "tri_00_01 = []\n",
    "\n",
    "_x01,_y01 = marker_dict00[0][\"corner\"][0]\n",
    "_x02, _y02= marker_dict01[0][\"corner\"][0]\n",
    "tri_00_01.append(triangulatePoints(_x01,_y01,_x02,_y02,cam_idx_first,cam_idx_second))\n",
    "tri_00_01"
   ],
   "metadata": {
    "collapsed": false,
    "pycharm": {
     "name": "#%%\n",
     "is_executing": false
    }
   }
  },
  {
   "cell_type": "code",
   "execution_count": 51,
   "outputs": [],
   "source": [],
   "metadata": {
    "collapsed": false,
    "pycharm": {
     "name": "#%%\n",
     "is_executing": false
    }
   }
  },
  {
   "cell_type": "code",
   "execution_count": null,
   "outputs": [],
   "source": [
    "\n"
   ],
   "metadata": {
    "collapsed": false,
    "pycharm": {
     "name": "#%%\n"
    }
   }
  }
 ],
 "metadata": {
  "file_extension": ".py",
  "kernelspec": {
   "display_name": "Python 3",
   "language": "python",
   "name": "python3"
  },
  "language_info": {
   "codemirror_mode": {
    "name": "ipython",
    "version": 3
   },
   "file_extension": ".py",
   "mimetype": "text/x-python",
   "name": "python",
   "nbconvert_exporter": "python",
   "pygments_lexer": "ipython3",
   "version": "3.6.10"
  },
  "mimetype": "text/x-python",
  "name": "python",
  "npconvert_exporter": "python",
  "pygments_lexer": "ipython3",
  "version": 3,
  "pycharm": {
   "stem_cell": {
    "cell_type": "raw",
    "source": [],
    "metadata": {
     "collapsed": false
    }
   }
  }
 },
 "nbformat": 4,
 "nbformat_minor": 2
}