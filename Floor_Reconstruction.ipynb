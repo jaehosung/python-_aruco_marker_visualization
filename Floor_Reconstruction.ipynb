{
 "cells": [
  {
   "cell_type": "code",
   "execution_count": 1,
   "outputs": [],
   "source": [
    "import glob\n",
    "import json\n",
    "import math\n",
    "from mpl_toolkits.mplot3d import Axes3D\n",
    "from mpl_toolkits.mplot3d.art3d import Poly3DCollection\n",
    "\n",
    "\n",
    "import numpy as np\n",
    "import cv2\n",
    "from cv2 import aruco\n",
    "import os\n",
    "import matplotlib as mpl\n",
    "import matplotlib.pyplot as plt\n",
    "import pprint as pp"
   ],
   "metadata": {
    "collapsed": false,
    "pycharm": {
     "name": "#%%\n",
     "is_executing": false
    }
   }
  },
  {
   "cell_type": "code",
   "execution_count": 2,
   "outputs": [
    {
     "name": "stdout",
     "text": [
      "array([[1.59106837e+03, 0.00000000e+00, 6.34909755e+02],\n",
      "       [0.00000000e+00, 1.59838858e+03, 5.01707782e+02],\n",
      "       [0.00000000e+00, 0.00000000e+00, 1.00000000e+00]])\n",
      "array([[ 1.36945721e-02],\n",
      "       [-1.94217874e-01],\n",
      "       [ 2.42371839e-04],\n",
      "       [ 6.03200809e-04],\n",
      "       [-4.39915075e+00],\n",
      "       [ 3.17459364e-03],\n",
      "       [-3.13005525e-01],\n",
      "       [-3.73922900e+00]])\n"
     ],
     "output_type": "stream"
    }
   ],
   "source": [
    "parameter_dir=r\"C:\\Users\\ZAIO\\dev\\python_aruco_marker_visualization\\camera_parameters\"\n",
    "\n",
    "#load xml file\n",
    "camera_parameters = {}\n",
    "# camera_idxs = [\"18284509\",\"18284511\",\"18284512\"]\n",
    "camera_idxs = [\"18284509\"]\n",
    "\n",
    "parameter_types = [\"CameraMatrix\",\"Intrinsics\",\"Distortion\"]\n",
    "\n",
    "for camera_idx in camera_idxs:\n",
    "    fileToLoad = os.path.join(parameter_dir,camera_idx+\".xml\")\n",
    "    fs = cv2.FileStorage(fileToLoad, cv2.FILE_STORAGE_READ)\n",
    "    _camera_parameter = {}\n",
    "    for parameter_type in parameter_types:\n",
    "        _camera_parameter[parameter_type] = fs.getNode(parameter_type).mat()\n",
    "        camera_parameters[camera_idx] = _camera_parameter\n",
    "\n",
    "#3d points to image (2nd image)\n",
    "extri = [0]*3\n",
    "intri  = [0]*3\n",
    "dist = [0]*3\n",
    "\n",
    "for i in range(len(camera_idxs)):\n",
    "    rotation_matrix = camera_parameters[camera_idxs[i]][parameter_types[0]][:,0:3]\n",
    "    rvec,_ = cv2.Rodrigues(rotation_matrix)\n",
    "    tvec = camera_parameters[camera_idxs[i]][parameter_types[0]][:,3]\n",
    "    \n",
    "    extri[i] = camera_parameters[camera_idxs[i]][parameter_types[0]]\n",
    "    intri[i] = camera_parameters[camera_idxs[i]][parameter_types[1]]\n",
    "    dist[i] = camera_parameters[camera_idxs[i]][parameter_types[2]]\n",
    "    \n",
    "camera_index = 0\n",
    "\n",
    "mtx = camera_parameters[camera_idxs[camera_index]][parameter_types[1]]\n",
    "dist = camera_parameters[camera_idxs[camera_index]][parameter_types[2]]\n",
    "pp.pprint(mtx)\n",
    "pp.pprint(dist)"
   ],
   "metadata": {
    "collapsed": false,
    "pycharm": {
     "name": "#%%\n",
     "is_executing": false
    }
   }
  },
  {
   "cell_type": "code",
   "execution_count": 3,
   "outputs": [
    {
     "data": {
      "text/plain": "<Figure size 432x288 with 1 Axes>",
      "image/png": "[encoded data removed]"
     },
     "metadata": {
      "needs_background": "light"
     },
     "output_type": "display_data"
    }
   ],
   "source": [
    "# create  Charuco board\n",
    "aruco_dict = aruco.Dictionary_get(aruco.DICT_4X4_250)\n",
    "parameters =  aruco.DetectorParameters_create()\n",
    "board = aruco.CharucoBoard_create(5, 7, 0.14, 0.088, aruco_dict)\n",
    "imboard = board.draw((2000, 2000))\n",
    "fig = plt.figure()\n",
    "ax = fig.add_subplot(1,1,1)\n",
    "plt.imshow(imboard, cmap = mpl.cm.gray, interpolation = \"nearest\")\n",
    "ax.axis(\"off\")\n",
    "plt.show()"
   ],
   "metadata": {
    "collapsed": false,
    "pycharm": {
     "name": "#%%\n",
     "is_executing": false
    }
   }
  },
  {
   "cell_type": "code",
   "execution_count": 18,
   "outputs": [],
   "source": [
    "length_of_axis = 0.09\n",
    "markerLength = 0.18\n",
    "\n",
    "#detect Charucoboad with calibration pose\n",
    "\n",
    "def charucoDetector(image_data):\n",
    "    frame  = cv2.imread(image_data,cv2.IMREAD_UNCHANGED)\n",
    "    frame = cv2.cvtColor(frame, cv2.COLOR_RGB2BGR)\n",
    "    gray = cv2.cvtColor(frame, cv2.COLOR_BGR2GRAY)\n",
    "    \n",
    "    markerCorners, markerIds, rejectedImgPoints = aruco.detectMarkers(gray, aruco_dict, parameters=parameters)\n",
    "    imaxis = aruco.drawDetectedMarkers(frame.copy(), markerCorners, markerIds)\n",
    "    retval,charucoCorners,charucoIds= cv2.aruco.interpolateCornersCharuco(markerCorners,markerIds,gray,board)\n",
    "    imaxis_charuco = cv2.aruco.drawDetectedCornersCharuco(imaxis,charucoCorners,charucoIds,(0,0,255))\n",
    "    \n",
    "    rvecs, tvecs, _objPoints=cv2.aruco.estimatePoseSingleMarkers(markerCorners, markerLength, mtx, dist)\n",
    "    retval, rvec, tvec = cv2.aruco.estimatePoseCharucoBoard(charucoCorners, charucoIds, board, mtx, dist,rvecs,tvecs)\n",
    "    imaxis_final= cv2.aruco.drawAxis(imaxis_charuco,mtx, dist, rvec,tvec,length = 0.18)\n",
    "    \n",
    "    print(str(len(rvecs)) + \"/18\")\n",
    "    \n",
    "    # plt.figure(figsize=(15,15))\n",
    "    # plt.imshow(imaxis_charuco)\n",
    "    # plt.show()\n",
    "    detected_num = len(rvecs)\n",
    "    print(\"rvec\")\n",
    "    print(rvec)\n",
    "    print(\"tvec\")\n",
    "    print(tvec)\n",
    "    return rvec,tvec,detected_num"
   ],
   "metadata": {
    "collapsed": false,
    "pycharm": {
     "name": "#%%\n",
     "is_executing": false
    }
   }
  },
  {
   "cell_type": "code",
   "execution_count": 19,
   "outputs": [
    {
     "name": "stdout",
     "text": [
      "16/18\n",
      "rvec\n",
      "[[ 0.320882  ]\n",
      " [ 2.4736542 ]\n",
      " [-1.78582012]]\n",
      "tvec\n",
      "[[0.4345527 ]\n",
      " [0.71765216]\n",
      " [5.28290166]]\n",
      "11/18\n",
      "rvec\n",
      "[[ 1.60143948]\n",
      " [ 1.21528165]\n",
      " [-0.9324047 ]]\n",
      "tvec\n",
      "[[-0.66388062]\n",
      " [ 0.8286575 ]\n",
      " [ 5.14498391]]\n",
      "11/18\n",
      "rvec\n",
      "[[ 1.24113416]\n",
      " [-1.66466819]\n",
      " [ 1.13303323]]\n",
      "tvec\n",
      "[[0.60944327]\n",
      " [0.90569718]\n",
      " [4.68999267]]\n"
     ],
     "output_type": "stream"
    }
   ],
   "source": [
    "rvec_0,tvec_0, _ = charucoDetector(r\"I:\\20200819_Result2\\selected\\000000000030_rendered.png\")\n",
    "rvec_X,tvec_X, _ = charucoDetector(r\"I:\\20200819_Result2\\selected\\000000000062_rendered.png\")\n",
    "rvec_Y,tvec_Y, _ = charucoDetector(r\"I:\\20200819_Result2\\selected\\000000000017_rendered.png\")"
   ],
   "metadata": {
    "collapsed": false,
    "pycharm": {
     "name": "#%%\n",
     "is_executing": false
    }
   }
  },
  {
   "cell_type": "code",
   "execution_count": 43,
   "outputs": [
    {
     "name": "stdout",
     "text": [
      "[-0.05591049 -0.94684624 -0.3167905 ]\n"
     ],
     "output_type": "stream"
    }
   ],
   "source": [
    "floor_X = np.array(tvec_X-tvec_0).flatten()\n",
    "floor_Y = np.array(tvec_Y-tvec_0).flatten()\n",
    "floor_Z = np.cross(floor_X,floor_Y)\n",
    "norm_floor_Z = floor_Z/np.linalg.norm(floor_Z)\n",
    "\n",
    "print(norm_floor_Z)"
   ],
   "metadata": {
    "collapsed": false,
    "pycharm": {
     "name": "#%%\n",
     "is_executing": false
    }
   }
  },
  {
   "cell_type": "code",
   "execution_count": 47,
   "outputs": [
    {
     "name": "stdout",
     "text": [
      "[[ 0.10459852]\n",
      " [ 0.80634179]\n",
      " [-0.5821272 ]]\n",
      "[[ 0.72265356]\n",
      " [ 0.54839887]\n",
      " [-0.42074994]]\n",
      "[[ 0.52469521]\n",
      " [-0.70374618]\n",
      " [ 0.47899504]]\n"
     ],
     "output_type": "stream"
    }
   ],
   "source": [
    "print(rvec_0/np.linalg.norm(rvec_0))\n",
    "print(rvec_X/np.linalg.norm(rvec_X))\n",
    "print(rvec_Y/np.linalg.norm(rvec_Y))"
   ],
   "metadata": {
    "collapsed": false,
    "pycharm": {
     "name": "#%%\n",
     "is_executing": false
    }
   }
  },
  {
   "cell_type": "code",
   "execution_count": 53,
   "outputs": [
    {
     "traceback": [
      "\u001b[1;31m---------------------------------------------------------------------------\u001b[0m",
      "\u001b[1;31mValueError\u001b[0m                                Traceback (most recent call last)",
      "\u001b[1;32m<ipython-input-53-476d226908a3>\u001b[0m in \u001b[0;36m<module>\u001b[1;34m\u001b[0m\n\u001b[1;32m----> 1\u001b[1;33m \u001b[0mrtx_0\u001b[0m\u001b[1;33m,\u001b[0m  \u001b[1;33m=\u001b[0m \u001b[0mcv2\u001b[0m\u001b[1;33m.\u001b[0m\u001b[0mRodrigues\u001b[0m\u001b[1;33m(\u001b[0m\u001b[0mrvec_0\u001b[0m\u001b[1;33m)\u001b[0m\u001b[1;33m\u001b[0m\u001b[1;33m\u001b[0m\u001b[0m\n\u001b[0m\u001b[0;32m      2\u001b[0m \u001b[0mprint\u001b[0m\u001b[1;33m(\u001b[0m\u001b[0mrtx_0\u001b[0m\u001b[1;33m)\u001b[0m\u001b[1;33m\u001b[0m\u001b[1;33m\u001b[0m\u001b[0m\n",
      "\u001b[1;31mValueError\u001b[0m: too many values to unpack (expected 1)"
     ],
     "ename": "ValueError",
     "evalue": "too many values to unpack (expected 1)",
     "output_type": "error"
    }
   ],
   "source": [
    "rtx_0, _ = cv2.Rodrigues(rvec_0)\n",
    "print(rtx_0)"
   ],
   "metadata": {
    "collapsed": false,
    "pycharm": {
     "name": "#%%\n",
     "is_executing": false
    }
   }
  },
  {
   "cell_type": "code",
   "execution_count": 63,
   "outputs": [
    {
     "name": "stdout",
     "text": [
      "[-0.12550711 -0.30132746  0.9452247 ]\n"
     ],
     "output_type": "stream"
    }
   ],
   "source": [
    "vec_floor_x = [0,-1,0]\n",
    "rtx_0_inv = np.linalg.inv(rtx_0)\n",
    "np.matmul(rtx_0_inv,vec_floor_x)\n",
    "print(np.matmul(rtx_0_inv,vec_floor_x))"
   ],
   "metadata": {
    "collapsed": false,
    "pycharm": {
     "name": "#%%\n",
     "is_executing": false
    }
   }
  },
  {
   "cell_type": "code",
   "execution_count": null,
   "outputs": [],
   "source": [
    "\n"
   ],
   "metadata": {
    "collapsed": false,
    "pycharm": {
     "name": "#%%\n"
    }
   }
  }
 ],
 "metadata": {
  "kernelspec": {
   "name": "python361064bitcv2conda8fba07e51d324fac8cb0951c188fa2f8",
   "language": "python",
   "display_name": "Python 3.6.10 64-bit ('cv2': conda)"
  },
  "language_info": {
   "codemirror_mode": {
    "name": "ipython",
    "version": 3
   },
   "file_extension": ".py",
   "mimetype": "text/x-python",
   "name": "python",
   "nbconvert_exporter": "python",
   "pygments_lexer": "ipython3",
   "version": "3.6.10"
  },
  "pycharm": {
   "stem_cell": {
    "cell_type": "raw",
    "source": [],
    "metadata": {
     "collapsed": false
    }
   }
  }
 },
 "nbformat": 4,
 "nbformat_minor": 4
}