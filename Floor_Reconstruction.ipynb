{
 "cells": [
  {
   "cell_type": "code",
   "execution_count": 3,
   "outputs": [],
   "source": [
    "import numpy as np\n",
    "import cv2\n",
    "from cv2 import aruco\n",
    "import os\n",
    "import matplotlib as mpl\n",
    "import matplotlib.pyplot as plt\n",
    "import pprint as pp\n",
    "from sklearn.preprocessing import normalize"
   ],
   "metadata": {
    "collapsed": false,
    "pycharm": {
     "name": "#%%\n",
     "is_executing": false
    }
   }
  },
  {
   "cell_type": "markdown",
   "source": [
    "### Load Camera parameters"
   ],
   "metadata": {
    "collapsed": false,
    "pycharm": {
     "name": "#%% md\n"
    }
   }
  },
  {
   "cell_type": "code",
   "execution_count": 4,
   "outputs": [],
   "source": [
    "parameter_dir=r\"C:\\Users\\ZAIO\\dev\\python_aruco_marker_visualization\\camera_parameters\"\n",
    "\n",
    "#load xml file\n",
    "camera_parameters = {}\n",
    "# camera_idxs = [\"18284509\",\"18284511\",\"18284512\"]\n",
    "camera_idxs = [\"18284509\"]\n",
    "\n",
    "parameter_types = [\"CameraMatrix\",\"Intrinsics\",\"Distortion\"]\n",
    "\n",
    "for camera_idx in camera_idxs:\n",
    "    fileToLoad = os.path.join(parameter_dir,camera_idx+\".xml\")\n",
    "    fs = cv2.FileStorage(fileToLoad, cv2.FILE_STORAGE_READ)\n",
    "    _camera_parameter = {}\n",
    "    for parameter_type in parameter_types:\n",
    "        _camera_parameter[parameter_type] = fs.getNode(parameter_type).mat()\n",
    "        camera_parameters[camera_idx] = _camera_parameter\n",
    "\n",
    "#3d points to image (2nd image)\n",
    "extri = [0]*3\n",
    "intri  = [0]*3\n",
    "dist = [0]*3\n",
    "\n",
    "for i in range(len(camera_idxs)):\n",
    "    rotation_matrix = camera_parameters[camera_idxs[i]][parameter_types[0]][:,0:3]\n",
    "    rvec,_ = cv2.Rodrigues(rotation_matrix)\n",
    "    tvec = camera_parameters[camera_idxs[i]][parameter_types[0]][:,3]\n",
    "    \n",
    "    extri[i] = camera_parameters[camera_idxs[i]][parameter_types[0]]\n",
    "    intri[i] = camera_parameters[camera_idxs[i]][parameter_types[1]]\n",
    "    dist[i] = camera_parameters[camera_idxs[i]][parameter_types[2]]\n",
    "   "
   ],
   "metadata": {
    "collapsed": false,
    "pycharm": {
     "name": "#%%\n",
     "is_executing": false
    }
   }
  },
  {
   "cell_type": "markdown",
   "source": [
    "### Select camera index"
   ],
   "metadata": {
    "collapsed": false
   }
  },
  {
   "cell_type": "code",
   "execution_count": 5,
   "outputs": [
    {
     "name": "stdout",
     "text": [
      "array([[1.59106837e+03, 0.00000000e+00, 6.34909755e+02],\n",
      "       [0.00000000e+00, 1.59838858e+03, 5.01707782e+02],\n",
      "       [0.00000000e+00, 0.00000000e+00, 1.00000000e+00]])\n",
      "array([[ 1.36945721e-02],\n",
      "       [-1.94217874e-01],\n",
      "       [ 2.42371839e-04],\n",
      "       [ 6.03200809e-04],\n",
      "       [-4.39915075e+00],\n",
      "       [ 3.17459364e-03],\n",
      "       [-3.13005525e-01],\n",
      "       [-3.73922900e+00]])\n"
     ],
     "output_type": "stream"
    }
   ],
   "source": [
    "camera_index = 0\n",
    "\n",
    "mtx = camera_parameters[camera_idxs[camera_index]][parameter_types[1]]\n",
    "dist = camera_parameters[camera_idxs[camera_index]][parameter_types[2]]\n",
    "pp.pprint(mtx)\n",
    "pp.pprint(dist)\n",
    "# create  Charuco board"
   ],
   "metadata": {
    "collapsed": false,
    "pycharm": {
     "name": "#%%\n",
     "is_executing": false
    }
   }
  },
  {
   "cell_type": "markdown",
   "source": [
    "### Generate Charuco Board"
   ],
   "metadata": {
    "collapsed": false,
    "pycharm": {
     "name": "#%% md\n"
    }
   }
  },
  {
   "cell_type": "code",
   "execution_count": 6,
   "outputs": [
    {
     "data": {
      "text/plain": "<Figure size 432x288 with 1 Axes>",
      "image/png": "[encoded data removed]"
     },
     "metadata": {
      "needs_background": "light"
     },
     "output_type": "display_data"
    }
   ],
   "source": [
    "aruco_dict = aruco.Dictionary_get(aruco.DICT_4X4_250)\n",
    "parameters =  aruco.DetectorParameters_create()\n",
    "board = aruco.CharucoBoard_create(5, 7, 0.14, 0.088, aruco_dict)\n",
    "imboard = board.draw((2000, 2000))\n",
    "fig = plt.figure()\n",
    "ax = fig.add_subplot(1,1,1)\n",
    "plt.imshow(imboard, cmap = mpl.cm.gray, interpolation = \"nearest\")\n",
    "ax.axis(\"off\")\n",
    "plt.show()"
   ],
   "metadata": {
    "collapsed": false,
    "pycharm": {
     "name": "#%%\n",
     "is_executing": false
    }
   }
  },
  {
   "cell_type": "markdown",
   "source": [
    "### Metric: meter"
   ],
   "metadata": {
    "collapsed": false,
    "pycharm": {
     "name": "#%% md\n"
    }
   }
  },
  {
   "cell_type": "code",
   "execution_count": 7,
   "outputs": [],
   "source": [
    "length_of_axis = 0.09\n",
    "markerLength = 0.18\n",
    "\n",
    "#detect Charucoboad with calibration pose\n",
    "\n",
    "def charucoDetector(image_data,vis = False):\n",
    "    frame  = cv2.imread(image_data,cv2.IMREAD_UNCHANGED)\n",
    "    frame = cv2.cvtColor(frame, cv2.COLOR_RGB2BGR)\n",
    "    gray = cv2.cvtColor(frame, cv2.COLOR_BGR2GRAY)\n",
    "    \n",
    "    markerCorners, markerIds, rejectedImgPoints = aruco.detectMarkers(gray, aruco_dict, parameters=parameters)\n",
    "    imaxis = aruco.drawDetectedMarkers(frame.copy(), markerCorners, markerIds)\n",
    "    retval,charucoCorners,charucoIds= cv2.aruco.interpolateCornersCharuco(markerCorners,markerIds,gray,board)\n",
    "    imaxis_charuco = cv2.aruco.drawDetectedCornersCharuco(imaxis,charucoCorners,charucoIds,(0,0,255))\n",
    "    \n",
    "    rvecs, tvecs, _objPoints=cv2.aruco.estimatePoseSingleMarkers(markerCorners, markerLength, mtx, dist)\n",
    "    retval, rvec, tvec = cv2.aruco.estimatePoseCharucoBoard(charucoCorners, charucoIds, board, mtx, dist,rvecs,tvecs)\n",
    "    imaxis_final= cv2.aruco.drawAxis(imaxis_charuco,mtx, dist, rvec,tvec,length = 0.18)\n",
    "    \n",
    "    print(\"detected marekrs: \"+ str(len(rvecs)) + \"/18\")\n",
    "    if vis == True:\n",
    "        plt.figure(figsize=(15,15))\n",
    "        plt.imshow(imaxis_charuco)\n",
    "        plt.show()\n",
    "        print(\"rvec\")\n",
    "        print(rvec)\n",
    "        print(\"tvec\")\n",
    "        print(tvec)\n",
    "    detected_num = len(rvecs)\n",
    "    \n",
    "    return rvec,tvec,detected_num"
   ],
   "metadata": {
    "collapsed": false,
    "pycharm": {
     "name": "#%%\n",
     "is_executing": false
    }
   }
  },
  {
   "cell_type": "markdown",
   "source": [
    "### Floor Plan reconstruced by three mareker on the floor"
   ],
   "metadata": {
    "collapsed": false
   }
  },
  {
   "cell_type": "code",
   "execution_count": 8,
   "outputs": [
    {
     "name": "stdout",
     "text": [
      "detected marekrs: 16/18\n",
      "detected marekrs: 11/18\n",
      "detected marekrs: 11/18\n"
     ],
     "output_type": "stream"
    }
   ],
   "source": [
    "rvec_0,tvec_0, _ = charucoDetector(r\"I:\\20200819_Result2\\selected\\000000000030_rendered.png\")\n",
    "rvec_X,tvec_X, _ = charucoDetector(r\"I:\\20200819_Result2\\selected\\000000000062_rendered.png\")\n",
    "rvec_Y,tvec_Y, _ = charucoDetector(r\"I:\\20200819_Result2\\selected\\000000000017_rendered.png\")"
   ],
   "metadata": {
    "collapsed": false,
    "pycharm": {
     "name": "#%%\n",
     "is_executing": false
    }
   }
  },
  {
   "cell_type": "code",
   "execution_count": 9,
   "outputs": [
    {
     "name": "stdout",
     "text": [
      "[norm_floor_z]\n",
      "[-0.05591049 -0.94684624 -0.3167905 ]\n"
     ],
     "output_type": "stream"
    }
   ],
   "source": [
    "floor_X = np.array(tvec_X-tvec_0).flatten()\n",
    "floor_Y = np.array(tvec_Y-tvec_0).flatten()\n",
    "floor_Z = np.cross(floor_X,floor_Y)\n",
    "norm_floor_Z = floor_Z/np.linalg.norm(floor_Z)\n",
    "print(\"[norm_floor_z]\")\n",
    "print(norm_floor_Z)"
   ],
   "metadata": {
    "collapsed": false,
    "pycharm": {
     "name": "#%%\n",
     "is_executing": false
    }
   }
  },
  {
   "cell_type": "markdown",
   "source": [
    "### Floor Normal vector from rvec for each vector"
   ],
   "metadata": {
    "collapsed": false
   }
  },
  {
   "cell_type": "code",
   "execution_count": 10,
   "outputs": [
    {
     "name": "stdout",
     "text": [
      "[norm_floor_Z from rvec]\n",
      "[-0.05774254 -0.94576818 -0.31960305]\n"
     ],
     "output_type": "stream"
    }
   ],
   "source": [
    "# print(rvec_0/np.linalg.norm(rvec_0))\n",
    "# print(rvec_X/np.linalg.norm(rvec_X))\n",
    "# print(rvec_Y/np.linalg.norm(rvec_Y))\n",
    "\n",
    "rtx_0, _ = cv2.Rodrigues(rvec_0)\n",
    "rtx_X, _ = cv2.Rodrigues(rvec_X)\n",
    "rtx_Y, _ = cv2.Rodrigues(rvec_Y)\n",
    "\n",
    "vec_floor_x = [0,0,1]\n",
    "norm_floor_rtx_0 = np.matmul(rtx_0,vec_floor_x)\n",
    "norm_floor_rtx_X = np.matmul(rtx_X,vec_floor_x)\n",
    "norm_floor_rtx_Y = np.matmul(rtx_Y,vec_floor_x)\n",
    "\n",
    "# print(norm_floor_rtx_0)\n",
    "# print(norm_floor_rtx_X)\n",
    "# print(norm_floor_rtx_Y)\n",
    "print(\"[norm_floor_Z from rvec]\")\n",
    "norm_floor_Z_rvec_average = np.average([norm_floor_rtx_0,norm_floor_rtx_X,norm_floor_rtx_Y],axis = 0)\n",
    "print(norm_floor_Z_rvec_average)"
   ],
   "metadata": {
    "collapsed": false,
    "pycharm": {
     "name": "#%%\n",
     "is_executing": false
    }
   }
  },
  {
   "cell_type": "markdown",
   "source": [
    "### Differnece between signle chaurco and the multiple chaurco"
   ],
   "metadata": {
    "collapsed": false,
    "pycharm": {
     "name": "#%% md\n"
    }
   }
  },
  {
   "cell_type": "code",
   "execution_count": 11,
   "outputs": [
    {
     "name": "stdout",
     "text": [
      "0.20199386057806926\n",
      "0.42361027112710475\n",
      "0.4136978872203248\n",
      "0.4333580058297975\n"
     ],
     "output_type": "stream"
    }
   ],
   "source": [
    "import math\n",
    "\n",
    "def dotproduct(v1, v2):\n",
    "  return sum((a*b) for a, b in zip(v1, v2))\n",
    "def length(v):\n",
    "  return math.sqrt(dotproduct(v, v))\n",
    "def angle(v1, v2):\n",
    "  return math.acos(dotproduct(v1, v2) / (length(v1) * length(v2)))\n",
    "\n",
    "print(np.rad2deg(angle(norm_floor_Z_rvec_average,norm_floor_Z)))\n",
    "print(np.rad2deg(angle(norm_floor_rtx_0,norm_floor_Z)))\n",
    "print(np.rad2deg(angle(norm_floor_rtx_X,norm_floor_Z)))\n",
    "print(np.rad2deg(angle(norm_floor_rtx_Y,norm_floor_Z)))\n"
   ],
   "metadata": {
    "collapsed": false,
    "pycharm": {
     "name": "#%%\n",
     "is_executing": false
    }
   }
  },
  {
   "cell_type": "markdown",
   "source": [
    "Remove Cardboard height\n",
    " - Cardboard thickness: 17mm"
   ],
   "metadata": {
    "collapsed": false,
    "pycharm": {
     "name": "#%% md\n"
    }
   }
  },
  {
   "cell_type": "code",
   "execution_count": 27,
   "outputs": [],
   "source": [
    "def norm(vec):\n",
    "    return vec/np.linalg.norm(vec)\n"
   ],
   "metadata": {
    "collapsed": false,
    "pycharm": {
     "name": "#%%\n",
     "is_executing": false
    }
   }
  },
  {
   "cell_type": "markdown",
   "source": [
    "### Rotation and translation matrix from 1 charuco board"
   ],
   "metadata": {
    "collapsed": false
   }
  },
  {
   "cell_type": "code",
   "execution_count": 56,
   "outputs": [
    {
     "name": "stdout",
     "text": [
      "[[-0.97542291  0.21140181 -0.06212422  0.4345527 ]\n",
      " [ 0.12550711  0.30132746 -0.9452247   0.71765216]\n",
      " [-0.18110248 -0.92979085 -0.32045414  5.28290166]]\n"
     ],
     "output_type": "stream"
    }
   ],
   "source": [
    "rtx_0, _ = cv2.Rodrigues(rvec_0)\n",
    "rttx = np.hstack((rtx_0,tvec_0.reshape(3,1)))\n",
    "print(rttx)"
   ],
   "metadata": {
    "collapsed": false,
    "pycharm": {
     "name": "#%%\n",
     "is_executing": false
    }
   }
  },
  {
   "cell_type": "markdown",
   "source": [
    "### Rotation and translation matrix from 3 charuco board"
   ],
   "metadata": {
    "collapsed": false,
    "pycharm": {
     "name": "#%% md\n"
    }
   }
  },
  {
   "cell_type": "code",
   "execution_count": 57,
   "outputs": [
    {
     "name": "stdout",
     "text": [
      "[[ 0.99844806  0.         -0.05569086  0.4345527 ]\n",
      " [-0.05283449 -0.3161471  -0.94723784  0.71765216]\n",
      " [-0.01760651  0.94871018 -0.31565646  5.28290166]]\n"
     ],
     "output_type": "stream"
    }
   ],
   "source": [
    "z_vector = norm_floor_Z\n",
    "dummy_vector = [1,0,0]\n",
    "y_vector = np.cross(z_vector,dummy_vector)\n",
    "x_vector = np.cross(y_vector,z_vector)\n",
    "\n",
    "x_vector = norm(x_vector)\n",
    "y_vector = norm(y_vector)\n",
    "z_vector = norm(z_vector)\n",
    "\n",
    "x_vector = x_vector.reshape(3,1)\n",
    "y_vector = y_vector.reshape(3,1)\n",
    "z_vector = z_vector.reshape(3,1)\n",
    "\n",
    "rtx = np.hstack((x_vector,np.hstack((y_vector,z_vector))))\n",
    "rttx = np.hstack((rtx, tvec_0.reshape(3,1)))\n",
    "print(rttx)"
   ],
   "metadata": {
    "collapsed": false,
    "pycharm": {
     "name": "#%%\n",
     "is_executing": false
    }
   }
  },
  {
   "cell_type": "code",
   "execution_count": 13,
   "outputs": [
    {
     "name": "stdout",
     "text": [
      "[0.4345527  0.71765216 5.26590166]\n"
     ],
     "output_type": "stream"
    }
   ],
   "source": [
    "floor_tvec = tvec_0.flatten() - [0,0,0.017]\n",
    "print(floor_tvec)"
   ],
   "metadata": {
    "collapsed": false,
    "pycharm": {
     "name": "#%%\n",
     "is_executing": false
    }
   }
  },
  {
   "cell_type": "markdown",
   "source": [
    "chessboard's first corner. X axis in blue color, Y axis in green color and Z axis in red color.\n",
    "* corner to edge => 0.177m"
   ],
   "metadata": {
    "collapsed": false,
    "pycharm": {
     "name": "#%% md\n"
    }
   }
  },
  {
   "cell_type": "code",
   "execution_count": 14,
   "outputs": [],
   "source": [
    "# rvec_0,tvec_0, _ = charucoDetector(r\"I:\\20200819_Result2\\selected\\000000000083_rendered.png\",vis=True)\n",
    "# rvec_X,tvec_X, _ = charucoDetector(r\"I:\\20200819_Result2\\selected\\000000000102_rendered.png\",vis=True)\n",
    "# rvec_Y,tvec_Y, _ = charucoDetector(r\"I:\\20200819_Result2\\selected\\000000000120_rendered.png\",vis=True)"
   ],
   "metadata": {
    "collapsed": false,
    "pycharm": {
     "name": "#%%\n",
     "is_executing": false
    }
   }
  },
  {
   "cell_type": "code",
   "execution_count": 15,
   "outputs": [
    {
     "name": "stdout",
     "text": [
      "[[-0.97542291  0.21140181 -0.06212422]\n",
      " [ 0.12550711  0.30132746 -0.9452247 ]\n",
      " [-0.18110248 -0.92979085 -0.32045414]]\n",
      "[[-0.97542291  0.21140181 -0.06212422  0.4345527 ]\n",
      " [ 0.12550711  0.30132746 -0.9452247   0.71765216]\n",
      " [-0.18110248 -0.92979085 -0.32045414  5.28290166]]\n"
     ],
     "output_type": "stream"
    }
   ],
   "source": [
    "rtx_0 = cv2.Rodrigues(rvec_0)[0]\n",
    "print(rtx_0)\n",
    "tvec_3_1 = tvec_0.reshape(3,1)\n",
    "print(np.hstack((rtx_0,tvec_3_1)))"
   ],
   "metadata": {
    "collapsed": false,
    "pycharm": {
     "name": "#%%\n",
     "is_executing": false
    }
   }
  },
  {
   "cell_type": "code",
   "execution_count": 16,
   "outputs": [],
   "source": [
    "def rtvec2rtx (rvec,tvec):\n",
    "    rtx = cv2.Rodrigues(rvec)[0]\n",
    "    return np.hstack((rtx,tvec.reshape(3,1)))"
   ],
   "metadata": {
    "collapsed": false,
    "pycharm": {
     "name": "#%%\n",
     "is_executing": false
    }
   }
  },
  {
   "cell_type": "code",
   "execution_count": 17,
   "outputs": [],
   "source": [
    "rtx_0 = rtvec2rtx(rvec_0,tvec_0)\n",
    "rtx_X = rtvec2rtx(rvec_X,tvec_X)\n",
    "rtx_Y = rtvec2rtx(rvec_Y,tvec_Y)"
   ],
   "metadata": {
    "collapsed": false,
    "pycharm": {
     "name": "#%%\n",
     "is_executing": false
    }
   }
  },
  {
   "cell_type": "code",
   "execution_count": 18,
   "outputs": [
    {
     "name": "stdout",
     "text": [
      "[norm_floor_z]\n",
      "[-0.05569086 -0.94723784 -0.31565646]\n"
     ],
     "output_type": "stream"
    }
   ],
   "source": [
    "coner2edge = [0,-0.177,0,1]\n",
    "\n",
    "tvec_0_floor = np.matmul(rtx_0,coner2edge)\n",
    "tvec_X_floor = np.matmul(rtx_X,coner2edge)\n",
    "tvec_Y_floor = np.matmul(rtx_Y,coner2edge)\n",
    "\n",
    "floor_X = np.array(tvec_X_floor-tvec_0_floor).flatten()\n",
    "floor_Y = np.array(tvec_Y_floor-tvec_0_floor).flatten()\n",
    "floor_Z = np.cross(floor_X,floor_Y)\n",
    "norm_floor_Z = floor_Z/np.linalg.norm(floor_Z)\n",
    "print(\"[norm_floor_z]\")\n",
    "print(norm_floor_Z)\n",
    "\n"
   ],
   "metadata": {
    "collapsed": false,
    "pycharm": {
     "name": "#%%\n",
     "is_executing": false
    }
   }
  },
  {
   "cell_type": "code",
   "execution_count": 19,
   "outputs": [
    {
     "name": "stdout",
     "text": [
      "[0 0 1]\n"
     ],
     "output_type": "stream"
    }
   ],
   "source": [
    "a = np.array([1,0,0])\n",
    "b = np.array([0,1,0])\n",
    "print(np.cross(a,b))"
   ],
   "metadata": {
    "collapsed": false,
    "pycharm": {
     "name": "#%%\n",
     "is_executing": false
    }
   }
  },
  {
   "cell_type": "code",
   "execution_count": null,
   "outputs": [],
   "source": [
    "\n"
   ],
   "metadata": {
    "collapsed": false,
    "pycharm": {
     "name": "#%%\n"
    }
   }
  }
 ],
 "metadata": {
  "kernelspec": {
   "name": "python361064bitcv2conda8fba07e51d324fac8cb0951c188fa2f8",
   "language": "python",
   "display_name": "Python 3.6.10 64-bit ('cv2': conda)"
  },
  "language_info": {
   "codemirror_mode": {
    "name": "ipython",
    "version": 3
   },
   "file_extension": ".py",
   "mimetype": "text/x-python",
   "name": "python",
   "nbconvert_exporter": "python",
   "pygments_lexer": "ipython3",
   "version": "3.6.10"
  },
  "pycharm": {
   "stem_cell": {
    "cell_type": "raw",
    "source": [],
    "metadata": {
     "collapsed": false
    }
   }
  }
 },
 "nbformat": 4,
 "nbformat_minor": 4
}